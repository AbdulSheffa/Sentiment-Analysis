{
  "nbformat": 4,
  "nbformat_minor": 0,
  "metadata": {
    "colab": {
      "provenance": [],
      "authorship_tag": "ABX9TyOaihrjXN/SgcweVD2rPGQd",
      "include_colab_link": true
    },
    "kernelspec": {
      "name": "python3",
      "display_name": "Python 3"
    },
    "language_info": {
      "name": "python"
    }
  },
  "cells": [
    {
      "cell_type": "markdown",
      "metadata": {
        "id": "view-in-github",
        "colab_type": "text"
      },
      "source": [
        "<a href=\"https://colab.research.google.com/github/AshvinVignesh/Sentiment-Analysis/blob/master/model/SA_SINHALA_3_CONTD(1).ipynb\" target=\"_parent\"><img src=\"https://colab.research.google.com/assets/colab-badge.svg\" alt=\"Open In Colab\"/></a>"
      ]
    },
    {
      "cell_type": "markdown",
      "source": [
        "# **SA FOR CON_EMOJI_MEANING**"
      ],
      "metadata": {
        "id": "0i0pqX3Fje-O"
      }
    },
    {
      "cell_type": "code",
      "execution_count": null,
      "metadata": {
        "id": "UqMHCkr9LU_g"
      },
      "outputs": [],
      "source": [
        "import pandas as pd "
      ]
    },
    {
      "cell_type": "code",
      "source": [
        "df = pd.read_csv('cleaned.csv')"
      ],
      "metadata": {
        "id": "vvxQJwOyN07t"
      },
      "execution_count": null,
      "outputs": []
    },
    {
      "cell_type": "code",
      "source": [
        "df.head(10)"
      ],
      "metadata": {
        "colab": {
          "base_uri": "https://localhost:8080/",
          "height": 545
        },
        "id": "CdPIMfebOBu2",
        "outputId": "a28f3ae9-8051-4d80-e8af-03c3ebf44fb2"
      },
      "execution_count": null,
      "outputs": [
        {
          "output_type": "execute_result",
          "data": {
            "text/plain": [
              "                                                Text      Class  \\\n",
              "0        ඝරසරප චිත්‍රපටය පහළ තියෙන එකෙන් කරගන්න         Neutral   \n",
              "1               මොකක් හරි නාට්‍යයක් තියෙන්නත් එපැයි     Neutral   \n",
              "2       කිමද තරම් කොහේදෝ විදපු ගලක් උරන මා මිතුරු...    Neutral   \n",
              "3       එහෙම කොහොමද උනේ  😂  පරය අපිව අයින් කරල නේ  😂    Neutral   \n",
              "4   විමලයා ගොනෙක් වගෙ එකෙ මෑරෙන්න හදනවා පරය රටට ව...  Political   \n",
              "5      ලැජ්ජයි ස⁣හෝදරයා විදිහ දැක්කාම ඔබලාගේ කුලල...     Racist   \n",
              "6    ලැජ්ජයි ස⁣හෝදරයා විදිහ දැක්කාම ඔබලාගේ කුලල්ක...     Racist   \n",
              "7      මං තම්බි වගේද පෙන්නෙ 😏  මං බ්‍රහස්පතින්දා ...    Neutral   \n",
              "8     ඉටිම් බං උතුර ඉල්ලනසෙට් එකයි නැගෙනහිරපඉල්ලන...     Racist   \n",
              "9      පේනවානේ තම්බි කවදත් ඉන්නේ උන්ට වාසි පැත්තේ...     Racist   \n",
              "\n",
              "                                            PureText ConEmoji Emojis  \\\n",
              "0        ඝරසරප චිත්‍රපටය පහළ තියෙන එකෙන් කරගන්න           NaN    NaN   \n",
              "1         මොකක් හරි නාට්‍යයක් තියෙන්නත් එපැයි ඉතින්       NaN    NaN   \n",
              "2       කිමද මේ තරම් කොහේදෝ ඇති විදපු ගලක් හා උරන...      NaN    NaN   \n",
              "3         එහෙම කොහොමද උනේ    පරය අපිව අයින් කරල නේ        😂 😂    😂 😂   \n",
              "4   විමලයා ගොනෙක් වගෙ එකෙ මෑරෙන්න හදනවා පරය රටට ව...      NaN    NaN   \n",
              "5      ලැජ්ජයි ස⁣හෝදරයා මේ යන විදිහ දැක්කාම ඔබලාග...      NaN    NaN   \n",
              "6    ලැජ්ජයි ස⁣හෝදරයා මේ යන විදිහ දැක්කාම ඔබලාගේ ...      NaN    NaN   \n",
              "7      ඇයි මං තම්බි වගේද පෙන්නෙ   මං බ්‍රහස්පතින්...      😏 😅    😏 😅   \n",
              "8     ඉටිම් බං උතුර ඉල්ලනසෙට් එකයි නැගෙනහිරපඉල්ලන...      NaN    NaN   \n",
              "9      පේනවානේ තම්බි කවදත් ඉන්නේ උන්ට වාසි පැත්තේ...      NaN    NaN   \n",
              "\n",
              "                  Con_emoji_meanings  \n",
              "0                                NaN  \n",
              "1                                NaN  \n",
              "2                                NaN  \n",
              "3      face tears joy face tears joy  \n",
              "4                                NaN  \n",
              "5                                NaN  \n",
              "6                                NaN  \n",
              "7  smirking face grinning face sweat  \n",
              "8                                NaN  \n",
              "9                                NaN  "
            ],
            "text/html": [
              "\n",
              "  <div id=\"df-14827d9a-7174-462c-9f8d-0b27025f03a2\">\n",
              "    <div class=\"colab-df-container\">\n",
              "      <div>\n",
              "<style scoped>\n",
              "    .dataframe tbody tr th:only-of-type {\n",
              "        vertical-align: middle;\n",
              "    }\n",
              "\n",
              "    .dataframe tbody tr th {\n",
              "        vertical-align: top;\n",
              "    }\n",
              "\n",
              "    .dataframe thead th {\n",
              "        text-align: right;\n",
              "    }\n",
              "</style>\n",
              "<table border=\"1\" class=\"dataframe\">\n",
              "  <thead>\n",
              "    <tr style=\"text-align: right;\">\n",
              "      <th></th>\n",
              "      <th>Text</th>\n",
              "      <th>Class</th>\n",
              "      <th>PureText</th>\n",
              "      <th>ConEmoji</th>\n",
              "      <th>Emojis</th>\n",
              "      <th>Con_emoji_meanings</th>\n",
              "    </tr>\n",
              "  </thead>\n",
              "  <tbody>\n",
              "    <tr>\n",
              "      <th>0</th>\n",
              "      <td>ඝරසරප චිත්‍රපටය පහළ තියෙන එකෙන් කරගන්න</td>\n",
              "      <td>Neutral</td>\n",
              "      <td>ඝරසරප චිත්‍රපටය පහළ තියෙන එකෙන් කරගන්න</td>\n",
              "      <td>NaN</td>\n",
              "      <td>NaN</td>\n",
              "      <td>NaN</td>\n",
              "    </tr>\n",
              "    <tr>\n",
              "      <th>1</th>\n",
              "      <td>මොකක් හරි නාට්‍යයක් තියෙන්නත් එපැයි</td>\n",
              "      <td>Neutral</td>\n",
              "      <td>මොකක් හරි නාට්‍යයක් තියෙන්නත් එපැයි ඉතින්</td>\n",
              "      <td>NaN</td>\n",
              "      <td>NaN</td>\n",
              "      <td>NaN</td>\n",
              "    </tr>\n",
              "    <tr>\n",
              "      <th>2</th>\n",
              "      <td>කිමද තරම් කොහේදෝ විදපු ගලක් උරන මා මිතුරු...</td>\n",
              "      <td>Neutral</td>\n",
              "      <td>කිමද මේ තරම් කොහේදෝ ඇති විදපු ගලක් හා උරන...</td>\n",
              "      <td>NaN</td>\n",
              "      <td>NaN</td>\n",
              "      <td>NaN</td>\n",
              "    </tr>\n",
              "    <tr>\n",
              "      <th>3</th>\n",
              "      <td>එහෙම කොහොමද උනේ  😂  පරය අපිව අයින් කරල නේ  😂</td>\n",
              "      <td>Neutral</td>\n",
              "      <td>එහෙම කොහොමද උනේ    පරය අපිව අයින් කරල නේ</td>\n",
              "      <td>😂 😂</td>\n",
              "      <td>😂 😂</td>\n",
              "      <td>face tears joy face tears joy</td>\n",
              "    </tr>\n",
              "    <tr>\n",
              "      <th>4</th>\n",
              "      <td>විමලයා ගොනෙක් වගෙ එකෙ මෑරෙන්න හදනවා පරය රටට ව...</td>\n",
              "      <td>Political</td>\n",
              "      <td>විමලයා ගොනෙක් වගෙ එකෙ මෑරෙන්න හදනවා පරය රටට ව...</td>\n",
              "      <td>NaN</td>\n",
              "      <td>NaN</td>\n",
              "      <td>NaN</td>\n",
              "    </tr>\n",
              "    <tr>\n",
              "      <th>5</th>\n",
              "      <td>ලැජ්ජයි ස⁣හෝදරයා විදිහ දැක්කාම ඔබලාගේ කුලල...</td>\n",
              "      <td>Racist</td>\n",
              "      <td>ලැජ්ජයි ස⁣හෝදරයා මේ යන විදිහ දැක්කාම ඔබලාග...</td>\n",
              "      <td>NaN</td>\n",
              "      <td>NaN</td>\n",
              "      <td>NaN</td>\n",
              "    </tr>\n",
              "    <tr>\n",
              "      <th>6</th>\n",
              "      <td>ලැජ්ජයි ස⁣හෝදරයා විදිහ දැක්කාම ඔබලාගේ කුලල්ක...</td>\n",
              "      <td>Racist</td>\n",
              "      <td>ලැජ්ජයි ස⁣හෝදරයා මේ යන විදිහ දැක්කාම ඔබලාගේ ...</td>\n",
              "      <td>NaN</td>\n",
              "      <td>NaN</td>\n",
              "      <td>NaN</td>\n",
              "    </tr>\n",
              "    <tr>\n",
              "      <th>7</th>\n",
              "      <td>මං තම්බි වගේද පෙන්නෙ 😏  මං බ්‍රහස්පතින්දා ...</td>\n",
              "      <td>Neutral</td>\n",
              "      <td>ඇයි මං තම්බි වගේද පෙන්නෙ   මං බ්‍රහස්පතින්...</td>\n",
              "      <td>😏 😅</td>\n",
              "      <td>😏 😅</td>\n",
              "      <td>smirking face grinning face sweat</td>\n",
              "    </tr>\n",
              "    <tr>\n",
              "      <th>8</th>\n",
              "      <td>ඉටිම් බං උතුර ඉල්ලනසෙට් එකයි නැගෙනහිරපඉල්ලන...</td>\n",
              "      <td>Racist</td>\n",
              "      <td>ඉටිම් බං උතුර ඉල්ලනසෙට් එකයි නැගෙනහිරපඉල්ලන...</td>\n",
              "      <td>NaN</td>\n",
              "      <td>NaN</td>\n",
              "      <td>NaN</td>\n",
              "    </tr>\n",
              "    <tr>\n",
              "      <th>9</th>\n",
              "      <td>පේනවානේ තම්බි කවදත් ඉන්නේ උන්ට වාසි පැත්තේ...</td>\n",
              "      <td>Racist</td>\n",
              "      <td>පේනවානේ තම්බි කවදත් ඉන්නේ උන්ට වාසි පැත්තේ...</td>\n",
              "      <td>NaN</td>\n",
              "      <td>NaN</td>\n",
              "      <td>NaN</td>\n",
              "    </tr>\n",
              "  </tbody>\n",
              "</table>\n",
              "</div>\n",
              "      <button class=\"colab-df-convert\" onclick=\"convertToInteractive('df-14827d9a-7174-462c-9f8d-0b27025f03a2')\"\n",
              "              title=\"Convert this dataframe to an interactive table.\"\n",
              "              style=\"display:none;\">\n",
              "        \n",
              "  <svg xmlns=\"http://www.w3.org/2000/svg\" height=\"24px\"viewBox=\"0 0 24 24\"\n",
              "       width=\"24px\">\n",
              "    <path d=\"M0 0h24v24H0V0z\" fill=\"none\"/>\n",
              "    <path d=\"M18.56 5.44l.94 2.06.94-2.06 2.06-.94-2.06-.94-.94-2.06-.94 2.06-2.06.94zm-11 1L8.5 8.5l.94-2.06 2.06-.94-2.06-.94L8.5 2.5l-.94 2.06-2.06.94zm10 10l.94 2.06.94-2.06 2.06-.94-2.06-.94-.94-2.06-.94 2.06-2.06.94z\"/><path d=\"M17.41 7.96l-1.37-1.37c-.4-.4-.92-.59-1.43-.59-.52 0-1.04.2-1.43.59L10.3 9.45l-7.72 7.72c-.78.78-.78 2.05 0 2.83L4 21.41c.39.39.9.59 1.41.59.51 0 1.02-.2 1.41-.59l7.78-7.78 2.81-2.81c.8-.78.8-2.07 0-2.86zM5.41 20L4 18.59l7.72-7.72 1.47 1.35L5.41 20z\"/>\n",
              "  </svg>\n",
              "      </button>\n",
              "      \n",
              "  <style>\n",
              "    .colab-df-container {\n",
              "      display:flex;\n",
              "      flex-wrap:wrap;\n",
              "      gap: 12px;\n",
              "    }\n",
              "\n",
              "    .colab-df-convert {\n",
              "      background-color: #E8F0FE;\n",
              "      border: none;\n",
              "      border-radius: 50%;\n",
              "      cursor: pointer;\n",
              "      display: none;\n",
              "      fill: #1967D2;\n",
              "      height: 32px;\n",
              "      padding: 0 0 0 0;\n",
              "      width: 32px;\n",
              "    }\n",
              "\n",
              "    .colab-df-convert:hover {\n",
              "      background-color: #E2EBFA;\n",
              "      box-shadow: 0px 1px 2px rgba(60, 64, 67, 0.3), 0px 1px 3px 1px rgba(60, 64, 67, 0.15);\n",
              "      fill: #174EA6;\n",
              "    }\n",
              "\n",
              "    [theme=dark] .colab-df-convert {\n",
              "      background-color: #3B4455;\n",
              "      fill: #D2E3FC;\n",
              "    }\n",
              "\n",
              "    [theme=dark] .colab-df-convert:hover {\n",
              "      background-color: #434B5C;\n",
              "      box-shadow: 0px 1px 3px 1px rgba(0, 0, 0, 0.15);\n",
              "      filter: drop-shadow(0px 1px 2px rgba(0, 0, 0, 0.3));\n",
              "      fill: #FFFFFF;\n",
              "    }\n",
              "  </style>\n",
              "\n",
              "      <script>\n",
              "        const buttonEl =\n",
              "          document.querySelector('#df-14827d9a-7174-462c-9f8d-0b27025f03a2 button.colab-df-convert');\n",
              "        buttonEl.style.display =\n",
              "          google.colab.kernel.accessAllowed ? 'block' : 'none';\n",
              "\n",
              "        async function convertToInteractive(key) {\n",
              "          const element = document.querySelector('#df-14827d9a-7174-462c-9f8d-0b27025f03a2');\n",
              "          const dataTable =\n",
              "            await google.colab.kernel.invokeFunction('convertToInteractive',\n",
              "                                                     [key], {});\n",
              "          if (!dataTable) return;\n",
              "\n",
              "          const docLinkHtml = 'Like what you see? Visit the ' +\n",
              "            '<a target=\"_blank\" href=https://colab.research.google.com/notebooks/data_table.ipynb>data table notebook</a>'\n",
              "            + ' to learn more about interactive tables.';\n",
              "          element.innerHTML = '';\n",
              "          dataTable['output_type'] = 'display_data';\n",
              "          await google.colab.output.renderOutput(dataTable, element);\n",
              "          const docLink = document.createElement('div');\n",
              "          docLink.innerHTML = docLinkHtml;\n",
              "          element.appendChild(docLink);\n",
              "        }\n",
              "      </script>\n",
              "    </div>\n",
              "  </div>\n",
              "  "
            ]
          },
          "metadata": {},
          "execution_count": 3
        }
      ]
    },
    {
      "cell_type": "code",
      "source": [
        "DF = df.drop(['Text','PureText',\t'ConEmoji',\t'Emojis'], axis=1)"
      ],
      "metadata": {
        "id": "ZqhHWwKxOFEH"
      },
      "execution_count": null,
      "outputs": []
    },
    {
      "cell_type": "code",
      "source": [
        "DF = DF.dropna()"
      ],
      "metadata": {
        "id": "N4LiW1xyO6Zm"
      },
      "execution_count": null,
      "outputs": []
    },
    {
      "cell_type": "code",
      "source": [
        "DF.info"
      ],
      "metadata": {
        "colab": {
          "base_uri": "https://localhost:8080/"
        },
        "id": "zJ5Pl6gOPTfX",
        "outputId": "5126f68a-a478-4c0a-a031-bbf140543690"
      },
      "execution_count": null,
      "outputs": [
        {
          "output_type": "execute_result",
          "data": {
            "text/plain": [
              "<bound method DataFrame.info of           Class                            Con_emoji_meanings\n",
              "3       Neutral                 face tears joy face tears joy\n",
              "7       Neutral             smirking face grinning face sweat\n",
              "19      Neutral                loudly crying face crying face\n",
              "23      Neutral                                face tears joy\n",
              "24       Racist                                  smiling face\n",
              "...         ...                                           ...\n",
              "1588   Religion                                    angry face\n",
              "1589  Political  face tears joy face tears joy face tears joy\n",
              "1590     Racist                                grimacing face\n",
              "1591   Religion                                face tears joy\n",
              "1592  Political                        smiling face hearteyes\n",
              "\n",
              "[424 rows x 2 columns]>"
            ]
          },
          "metadata": {},
          "execution_count": 6
        }
      ]
    },
    {
      "cell_type": "code",
      "source": [
        "# from textblob import TextBlob\n",
        "# from nltk.tokenize import word_tokenize\n",
        "# from nltk.stem import PorterStemmer\n",
        "from nltk.corpus import stopwords\n",
        "import nltk\n",
        "nltk.download('stopwords')\n",
        "stop_words = set(stopwords.words('english'))"
      ],
      "metadata": {
        "colab": {
          "base_uri": "https://localhost:8080/"
        },
        "id": "bifOPcCJP0BH",
        "outputId": "fd179044-af99-4b98-8fcb-b9beb995ab23"
      },
      "execution_count": null,
      "outputs": [
        {
          "output_type": "stream",
          "name": "stderr",
          "text": [
            "[nltk_data] Downloading package stopwords to /root/nltk_data...\n",
            "[nltk_data]   Unzipping corpora/stopwords.zip.\n"
          ]
        }
      ]
    },
    {
      "cell_type": "code",
      "source": [
        "# stemmer = PorterStemmer()\n",
        "# def stemming(data):\n",
        "#     text = [stemmer.stem(word) for word in data]\n",
        "#     return data"
      ],
      "metadata": {
        "id": "ssjOnbBXPaiV"
      },
      "execution_count": null,
      "outputs": []
    },
    {
      "cell_type": "code",
      "source": [
        "# DF['Con_emoji_meanings'] = DF['Con_emoji_meanings'].apply(lambda x: stemming(x))"
      ],
      "metadata": {
        "id": "JhkpE4l3QBxP"
      },
      "execution_count": null,
      "outputs": []
    },
    {
      "cell_type": "code",
      "source": [
        "DF.head(10)"
      ],
      "metadata": {
        "colab": {
          "base_uri": "https://localhost:8080/",
          "height": 363
        },
        "id": "9SCE4WIIQlYU",
        "outputId": "977a6a8f-1c7a-4556-9e5d-ce4aa1b884f8"
      },
      "execution_count": null,
      "outputs": [
        {
          "output_type": "execute_result",
          "data": {
            "text/plain": [
              "       Class                                 Con_emoji_meanings\n",
              "3    Neutral                      face tears joy face tears joy\n",
              "7    Neutral                  smirking face grinning face sweat\n",
              "19   Neutral                     loudly crying face crying face\n",
              "23   Neutral                                     face tears joy\n",
              "24    Racist                                       smiling face\n",
              "32  Religion  smiling face hearteyes grinning face smiling f...\n",
              "42  Religion                                       neutral face\n",
              "44   Neutral                                       pouting face\n",
              "48   Neutral                          beaming face smiling eyes\n",
              "56   Neutral                                     face tears joy"
            ],
            "text/html": [
              "\n",
              "  <div id=\"df-88eb1f61-84cb-4fbe-af60-7bb235dd0c88\">\n",
              "    <div class=\"colab-df-container\">\n",
              "      <div>\n",
              "<style scoped>\n",
              "    .dataframe tbody tr th:only-of-type {\n",
              "        vertical-align: middle;\n",
              "    }\n",
              "\n",
              "    .dataframe tbody tr th {\n",
              "        vertical-align: top;\n",
              "    }\n",
              "\n",
              "    .dataframe thead th {\n",
              "        text-align: right;\n",
              "    }\n",
              "</style>\n",
              "<table border=\"1\" class=\"dataframe\">\n",
              "  <thead>\n",
              "    <tr style=\"text-align: right;\">\n",
              "      <th></th>\n",
              "      <th>Class</th>\n",
              "      <th>Con_emoji_meanings</th>\n",
              "    </tr>\n",
              "  </thead>\n",
              "  <tbody>\n",
              "    <tr>\n",
              "      <th>3</th>\n",
              "      <td>Neutral</td>\n",
              "      <td>face tears joy face tears joy</td>\n",
              "    </tr>\n",
              "    <tr>\n",
              "      <th>7</th>\n",
              "      <td>Neutral</td>\n",
              "      <td>smirking face grinning face sweat</td>\n",
              "    </tr>\n",
              "    <tr>\n",
              "      <th>19</th>\n",
              "      <td>Neutral</td>\n",
              "      <td>loudly crying face crying face</td>\n",
              "    </tr>\n",
              "    <tr>\n",
              "      <th>23</th>\n",
              "      <td>Neutral</td>\n",
              "      <td>face tears joy</td>\n",
              "    </tr>\n",
              "    <tr>\n",
              "      <th>24</th>\n",
              "      <td>Racist</td>\n",
              "      <td>smiling face</td>\n",
              "    </tr>\n",
              "    <tr>\n",
              "      <th>32</th>\n",
              "      <td>Religion</td>\n",
              "      <td>smiling face hearteyes grinning face smiling f...</td>\n",
              "    </tr>\n",
              "    <tr>\n",
              "      <th>42</th>\n",
              "      <td>Religion</td>\n",
              "      <td>neutral face</td>\n",
              "    </tr>\n",
              "    <tr>\n",
              "      <th>44</th>\n",
              "      <td>Neutral</td>\n",
              "      <td>pouting face</td>\n",
              "    </tr>\n",
              "    <tr>\n",
              "      <th>48</th>\n",
              "      <td>Neutral</td>\n",
              "      <td>beaming face smiling eyes</td>\n",
              "    </tr>\n",
              "    <tr>\n",
              "      <th>56</th>\n",
              "      <td>Neutral</td>\n",
              "      <td>face tears joy</td>\n",
              "    </tr>\n",
              "  </tbody>\n",
              "</table>\n",
              "</div>\n",
              "      <button class=\"colab-df-convert\" onclick=\"convertToInteractive('df-88eb1f61-84cb-4fbe-af60-7bb235dd0c88')\"\n",
              "              title=\"Convert this dataframe to an interactive table.\"\n",
              "              style=\"display:none;\">\n",
              "        \n",
              "  <svg xmlns=\"http://www.w3.org/2000/svg\" height=\"24px\"viewBox=\"0 0 24 24\"\n",
              "       width=\"24px\">\n",
              "    <path d=\"M0 0h24v24H0V0z\" fill=\"none\"/>\n",
              "    <path d=\"M18.56 5.44l.94 2.06.94-2.06 2.06-.94-2.06-.94-.94-2.06-.94 2.06-2.06.94zm-11 1L8.5 8.5l.94-2.06 2.06-.94-2.06-.94L8.5 2.5l-.94 2.06-2.06.94zm10 10l.94 2.06.94-2.06 2.06-.94-2.06-.94-.94-2.06-.94 2.06-2.06.94z\"/><path d=\"M17.41 7.96l-1.37-1.37c-.4-.4-.92-.59-1.43-.59-.52 0-1.04.2-1.43.59L10.3 9.45l-7.72 7.72c-.78.78-.78 2.05 0 2.83L4 21.41c.39.39.9.59 1.41.59.51 0 1.02-.2 1.41-.59l7.78-7.78 2.81-2.81c.8-.78.8-2.07 0-2.86zM5.41 20L4 18.59l7.72-7.72 1.47 1.35L5.41 20z\"/>\n",
              "  </svg>\n",
              "      </button>\n",
              "      \n",
              "  <style>\n",
              "    .colab-df-container {\n",
              "      display:flex;\n",
              "      flex-wrap:wrap;\n",
              "      gap: 12px;\n",
              "    }\n",
              "\n",
              "    .colab-df-convert {\n",
              "      background-color: #E8F0FE;\n",
              "      border: none;\n",
              "      border-radius: 50%;\n",
              "      cursor: pointer;\n",
              "      display: none;\n",
              "      fill: #1967D2;\n",
              "      height: 32px;\n",
              "      padding: 0 0 0 0;\n",
              "      width: 32px;\n",
              "    }\n",
              "\n",
              "    .colab-df-convert:hover {\n",
              "      background-color: #E2EBFA;\n",
              "      box-shadow: 0px 1px 2px rgba(60, 64, 67, 0.3), 0px 1px 3px 1px rgba(60, 64, 67, 0.15);\n",
              "      fill: #174EA6;\n",
              "    }\n",
              "\n",
              "    [theme=dark] .colab-df-convert {\n",
              "      background-color: #3B4455;\n",
              "      fill: #D2E3FC;\n",
              "    }\n",
              "\n",
              "    [theme=dark] .colab-df-convert:hover {\n",
              "      background-color: #434B5C;\n",
              "      box-shadow: 0px 1px 3px 1px rgba(0, 0, 0, 0.15);\n",
              "      filter: drop-shadow(0px 1px 2px rgba(0, 0, 0, 0.3));\n",
              "      fill: #FFFFFF;\n",
              "    }\n",
              "  </style>\n",
              "\n",
              "      <script>\n",
              "        const buttonEl =\n",
              "          document.querySelector('#df-88eb1f61-84cb-4fbe-af60-7bb235dd0c88 button.colab-df-convert');\n",
              "        buttonEl.style.display =\n",
              "          google.colab.kernel.accessAllowed ? 'block' : 'none';\n",
              "\n",
              "        async function convertToInteractive(key) {\n",
              "          const element = document.querySelector('#df-88eb1f61-84cb-4fbe-af60-7bb235dd0c88');\n",
              "          const dataTable =\n",
              "            await google.colab.kernel.invokeFunction('convertToInteractive',\n",
              "                                                     [key], {});\n",
              "          if (!dataTable) return;\n",
              "\n",
              "          const docLinkHtml = 'Like what you see? Visit the ' +\n",
              "            '<a target=\"_blank\" href=https://colab.research.google.com/notebooks/data_table.ipynb>data table notebook</a>'\n",
              "            + ' to learn more about interactive tables.';\n",
              "          element.innerHTML = '';\n",
              "          dataTable['output_type'] = 'display_data';\n",
              "          await google.colab.output.renderOutput(dataTable, element);\n",
              "          const docLink = document.createElement('div');\n",
              "          docLink.innerHTML = docLinkHtml;\n",
              "          element.appendChild(docLink);\n",
              "        }\n",
              "      </script>\n",
              "    </div>\n",
              "  </div>\n",
              "  "
            ]
          },
          "metadata": {},
          "execution_count": 10
        }
      ]
    },
    {
      "cell_type": "markdown",
      "source": [
        "remove stop words"
      ],
      "metadata": {
        "id": "K0YeC7RMcOQd"
      }
    },
    {
      "cell_type": "code",
      "source": [
        "from gensim.parsing.preprocessing import remove_stopwords\n",
        "\n",
        "\n",
        "DF['Con_emoji_meanings']=DF['Con_emoji_meanings'].apply(lambda x : remove_stopwords(x))"
      ],
      "metadata": {
        "id": "bn9Qf-DXbQRs"
      },
      "execution_count": null,
      "outputs": []
    },
    {
      "cell_type": "code",
      "source": [
        "DF.head(10)"
      ],
      "metadata": {
        "colab": {
          "base_uri": "https://localhost:8080/",
          "height": 363
        },
        "id": "5rg26zHybynd",
        "outputId": "b831432e-ba35-40e4-9b65-c07561b0d1fb"
      },
      "execution_count": null,
      "outputs": [
        {
          "output_type": "execute_result",
          "data": {
            "text/plain": [
              "       Class                                 Con_emoji_meanings\n",
              "3    Neutral                      face tears joy face tears joy\n",
              "7    Neutral                  smirking face grinning face sweat\n",
              "19   Neutral                     loudly crying face crying face\n",
              "23   Neutral                                     face tears joy\n",
              "24    Racist                                       smiling face\n",
              "32  Religion  smiling face hearteyes grinning face smiling f...\n",
              "42  Religion                                       neutral face\n",
              "44   Neutral                                       pouting face\n",
              "48   Neutral                          beaming face smiling eyes\n",
              "56   Neutral                                     face tears joy"
            ],
            "text/html": [
              "\n",
              "  <div id=\"df-b91ef9e9-c5b9-45aa-9765-07a6b0ad07eb\">\n",
              "    <div class=\"colab-df-container\">\n",
              "      <div>\n",
              "<style scoped>\n",
              "    .dataframe tbody tr th:only-of-type {\n",
              "        vertical-align: middle;\n",
              "    }\n",
              "\n",
              "    .dataframe tbody tr th {\n",
              "        vertical-align: top;\n",
              "    }\n",
              "\n",
              "    .dataframe thead th {\n",
              "        text-align: right;\n",
              "    }\n",
              "</style>\n",
              "<table border=\"1\" class=\"dataframe\">\n",
              "  <thead>\n",
              "    <tr style=\"text-align: right;\">\n",
              "      <th></th>\n",
              "      <th>Class</th>\n",
              "      <th>Con_emoji_meanings</th>\n",
              "    </tr>\n",
              "  </thead>\n",
              "  <tbody>\n",
              "    <tr>\n",
              "      <th>3</th>\n",
              "      <td>Neutral</td>\n",
              "      <td>face tears joy face tears joy</td>\n",
              "    </tr>\n",
              "    <tr>\n",
              "      <th>7</th>\n",
              "      <td>Neutral</td>\n",
              "      <td>smirking face grinning face sweat</td>\n",
              "    </tr>\n",
              "    <tr>\n",
              "      <th>19</th>\n",
              "      <td>Neutral</td>\n",
              "      <td>loudly crying face crying face</td>\n",
              "    </tr>\n",
              "    <tr>\n",
              "      <th>23</th>\n",
              "      <td>Neutral</td>\n",
              "      <td>face tears joy</td>\n",
              "    </tr>\n",
              "    <tr>\n",
              "      <th>24</th>\n",
              "      <td>Racist</td>\n",
              "      <td>smiling face</td>\n",
              "    </tr>\n",
              "    <tr>\n",
              "      <th>32</th>\n",
              "      <td>Religion</td>\n",
              "      <td>smiling face hearteyes grinning face smiling f...</td>\n",
              "    </tr>\n",
              "    <tr>\n",
              "      <th>42</th>\n",
              "      <td>Religion</td>\n",
              "      <td>neutral face</td>\n",
              "    </tr>\n",
              "    <tr>\n",
              "      <th>44</th>\n",
              "      <td>Neutral</td>\n",
              "      <td>pouting face</td>\n",
              "    </tr>\n",
              "    <tr>\n",
              "      <th>48</th>\n",
              "      <td>Neutral</td>\n",
              "      <td>beaming face smiling eyes</td>\n",
              "    </tr>\n",
              "    <tr>\n",
              "      <th>56</th>\n",
              "      <td>Neutral</td>\n",
              "      <td>face tears joy</td>\n",
              "    </tr>\n",
              "  </tbody>\n",
              "</table>\n",
              "</div>\n",
              "      <button class=\"colab-df-convert\" onclick=\"convertToInteractive('df-b91ef9e9-c5b9-45aa-9765-07a6b0ad07eb')\"\n",
              "              title=\"Convert this dataframe to an interactive table.\"\n",
              "              style=\"display:none;\">\n",
              "        \n",
              "  <svg xmlns=\"http://www.w3.org/2000/svg\" height=\"24px\"viewBox=\"0 0 24 24\"\n",
              "       width=\"24px\">\n",
              "    <path d=\"M0 0h24v24H0V0z\" fill=\"none\"/>\n",
              "    <path d=\"M18.56 5.44l.94 2.06.94-2.06 2.06-.94-2.06-.94-.94-2.06-.94 2.06-2.06.94zm-11 1L8.5 8.5l.94-2.06 2.06-.94-2.06-.94L8.5 2.5l-.94 2.06-2.06.94zm10 10l.94 2.06.94-2.06 2.06-.94-2.06-.94-.94-2.06-.94 2.06-2.06.94z\"/><path d=\"M17.41 7.96l-1.37-1.37c-.4-.4-.92-.59-1.43-.59-.52 0-1.04.2-1.43.59L10.3 9.45l-7.72 7.72c-.78.78-.78 2.05 0 2.83L4 21.41c.39.39.9.59 1.41.59.51 0 1.02-.2 1.41-.59l7.78-7.78 2.81-2.81c.8-.78.8-2.07 0-2.86zM5.41 20L4 18.59l7.72-7.72 1.47 1.35L5.41 20z\"/>\n",
              "  </svg>\n",
              "      </button>\n",
              "      \n",
              "  <style>\n",
              "    .colab-df-container {\n",
              "      display:flex;\n",
              "      flex-wrap:wrap;\n",
              "      gap: 12px;\n",
              "    }\n",
              "\n",
              "    .colab-df-convert {\n",
              "      background-color: #E8F0FE;\n",
              "      border: none;\n",
              "      border-radius: 50%;\n",
              "      cursor: pointer;\n",
              "      display: none;\n",
              "      fill: #1967D2;\n",
              "      height: 32px;\n",
              "      padding: 0 0 0 0;\n",
              "      width: 32px;\n",
              "    }\n",
              "\n",
              "    .colab-df-convert:hover {\n",
              "      background-color: #E2EBFA;\n",
              "      box-shadow: 0px 1px 2px rgba(60, 64, 67, 0.3), 0px 1px 3px 1px rgba(60, 64, 67, 0.15);\n",
              "      fill: #174EA6;\n",
              "    }\n",
              "\n",
              "    [theme=dark] .colab-df-convert {\n",
              "      background-color: #3B4455;\n",
              "      fill: #D2E3FC;\n",
              "    }\n",
              "\n",
              "    [theme=dark] .colab-df-convert:hover {\n",
              "      background-color: #434B5C;\n",
              "      box-shadow: 0px 1px 3px 1px rgba(0, 0, 0, 0.15);\n",
              "      filter: drop-shadow(0px 1px 2px rgba(0, 0, 0, 0.3));\n",
              "      fill: #FFFFFF;\n",
              "    }\n",
              "  </style>\n",
              "\n",
              "      <script>\n",
              "        const buttonEl =\n",
              "          document.querySelector('#df-b91ef9e9-c5b9-45aa-9765-07a6b0ad07eb button.colab-df-convert');\n",
              "        buttonEl.style.display =\n",
              "          google.colab.kernel.accessAllowed ? 'block' : 'none';\n",
              "\n",
              "        async function convertToInteractive(key) {\n",
              "          const element = document.querySelector('#df-b91ef9e9-c5b9-45aa-9765-07a6b0ad07eb');\n",
              "          const dataTable =\n",
              "            await google.colab.kernel.invokeFunction('convertToInteractive',\n",
              "                                                     [key], {});\n",
              "          if (!dataTable) return;\n",
              "\n",
              "          const docLinkHtml = 'Like what you see? Visit the ' +\n",
              "            '<a target=\"_blank\" href=https://colab.research.google.com/notebooks/data_table.ipynb>data table notebook</a>'\n",
              "            + ' to learn more about interactive tables.';\n",
              "          element.innerHTML = '';\n",
              "          dataTable['output_type'] = 'display_data';\n",
              "          await google.colab.output.renderOutput(dataTable, element);\n",
              "          const docLink = document.createElement('div');\n",
              "          docLink.innerHTML = docLinkHtml;\n",
              "          element.appendChild(docLink);\n",
              "        }\n",
              "      </script>\n",
              "    </div>\n",
              "  </div>\n",
              "  "
            ]
          },
          "metadata": {},
          "execution_count": 12
        }
      ]
    },
    {
      "cell_type": "markdown",
      "source": [
        "# **TOKENIZE AND STEMMIMING**"
      ],
      "metadata": {
        "id": "GOOe5EUycT6M"
      }
    },
    {
      "cell_type": "code",
      "source": [
        "import pandas as pd\n",
        "import nltk\n",
        "from nltk.stem import PorterStemmer\n",
        "\n",
        "# download necessary nltk resources (only needed once)\n",
        "nltk.download('punkt')\n",
        "\n",
        "# create a stemmer object\n",
        "stemmer = PorterStemmer()\n",
        "\n",
        "# define a DataFrame with text data\n",
        "data = pd.DataFrame({'text': ['I am running in the park and seeing a lot of runners',\n",
        "                              'She is walking her dog in the neighborhood']})\n",
        "\n",
        "# apply tokenization and stemming to the text column of the DataFrame\n",
        "data['tokens'] = data['text'].apply(nltk.word_tokenize)\n",
        "data['stemmed_tokens'] = data['tokens'].apply(lambda x: [stemmer.stem(word) for word in x])\n",
        "\n",
        "# join the stemmed tokens back into a sentence without commas\n",
        "data['stemmed_text'] = data['stemmed_tokens'].apply(lambda x: \" \".join(x))\n",
        "\n",
        "# print the original text and the stemmed text\n",
        "print(\"Original DataFrame:\\n\", data[['text']])\n",
        "print(\"Stemmed DataFrame:\\n\", data[['stemmed_text']])\n"
      ],
      "metadata": {
        "colab": {
          "base_uri": "https://localhost:8080/"
        },
        "id": "Er58dZ9kcLtx",
        "outputId": "76f2786d-06be-4275-b951-33a74b9b7529"
      },
      "execution_count": null,
      "outputs": [
        {
          "output_type": "stream",
          "name": "stderr",
          "text": [
            "[nltk_data] Downloading package punkt to /root/nltk_data...\n",
            "[nltk_data]   Unzipping tokenizers/punkt.zip.\n"
          ]
        },
        {
          "output_type": "stream",
          "name": "stdout",
          "text": [
            "Original DataFrame:\n",
            "                                                 text\n",
            "0  I am running in the park and seeing a lot of r...\n",
            "1         She is walking her dog in the neighborhood\n",
            "Stemmed DataFrame:\n",
            "                                    stemmed_text\n",
            "0  i am run in the park and see a lot of runner\n",
            "1       she is walk her dog in the neighborhood\n"
          ]
        }
      ]
    },
    {
      "cell_type": "code",
      "source": [
        "DF['Con_emoji_meanings'] = DF['Con_emoji_meanings'].apply(nltk.word_tokenize)"
      ],
      "metadata": {
        "id": "d19E0eF_cXX9"
      },
      "execution_count": null,
      "outputs": []
    },
    {
      "cell_type": "code",
      "source": [
        "DF['Con_emoji_meanings'] = DF['Con_emoji_meanings'].apply(lambda x: [stemmer.stem(word) for word in x])\n"
      ],
      "metadata": {
        "id": "ABxvr0uafz9C"
      },
      "execution_count": null,
      "outputs": []
    },
    {
      "cell_type": "code",
      "source": [
        "DF['Con_emoji_meanings'] = DF['Con_emoji_meanings'].apply(lambda x: \" \".join(x))"
      ],
      "metadata": {
        "id": "aLqKD8tSep--"
      },
      "execution_count": null,
      "outputs": []
    },
    {
      "cell_type": "code",
      "source": [
        "DF.head(10)"
      ],
      "metadata": {
        "colab": {
          "base_uri": "https://localhost:8080/",
          "height": 363
        },
        "id": "xgqD02-MgCyp",
        "outputId": "f9c8a214-787e-4ebc-fa8c-b619d1c65018"
      },
      "execution_count": null,
      "outputs": [
        {
          "output_type": "execute_result",
          "data": {
            "text/plain": [
              "       Class                               Con_emoji_meanings\n",
              "3    Neutral                      face tear joy face tear joy\n",
              "7    Neutral                       smirk face grin face sweat\n",
              "19   Neutral                         loudli cri face cri face\n",
              "23   Neutral                                    face tear joy\n",
              "24    Racist                                       smile face\n",
              "32  Religion  smile face heartey grin face smile face heartey\n",
              "42  Religion                                     neutral face\n",
              "44   Neutral                                        pout face\n",
              "48   Neutral                              beam face smile eye\n",
              "56   Neutral                                    face tear joy"
            ],
            "text/html": [
              "\n",
              "  <div id=\"df-5ef2f6d0-6f6a-4d4f-b194-5d3ec994e139\">\n",
              "    <div class=\"colab-df-container\">\n",
              "      <div>\n",
              "<style scoped>\n",
              "    .dataframe tbody tr th:only-of-type {\n",
              "        vertical-align: middle;\n",
              "    }\n",
              "\n",
              "    .dataframe tbody tr th {\n",
              "        vertical-align: top;\n",
              "    }\n",
              "\n",
              "    .dataframe thead th {\n",
              "        text-align: right;\n",
              "    }\n",
              "</style>\n",
              "<table border=\"1\" class=\"dataframe\">\n",
              "  <thead>\n",
              "    <tr style=\"text-align: right;\">\n",
              "      <th></th>\n",
              "      <th>Class</th>\n",
              "      <th>Con_emoji_meanings</th>\n",
              "    </tr>\n",
              "  </thead>\n",
              "  <tbody>\n",
              "    <tr>\n",
              "      <th>3</th>\n",
              "      <td>Neutral</td>\n",
              "      <td>face tear joy face tear joy</td>\n",
              "    </tr>\n",
              "    <tr>\n",
              "      <th>7</th>\n",
              "      <td>Neutral</td>\n",
              "      <td>smirk face grin face sweat</td>\n",
              "    </tr>\n",
              "    <tr>\n",
              "      <th>19</th>\n",
              "      <td>Neutral</td>\n",
              "      <td>loudli cri face cri face</td>\n",
              "    </tr>\n",
              "    <tr>\n",
              "      <th>23</th>\n",
              "      <td>Neutral</td>\n",
              "      <td>face tear joy</td>\n",
              "    </tr>\n",
              "    <tr>\n",
              "      <th>24</th>\n",
              "      <td>Racist</td>\n",
              "      <td>smile face</td>\n",
              "    </tr>\n",
              "    <tr>\n",
              "      <th>32</th>\n",
              "      <td>Religion</td>\n",
              "      <td>smile face heartey grin face smile face heartey</td>\n",
              "    </tr>\n",
              "    <tr>\n",
              "      <th>42</th>\n",
              "      <td>Religion</td>\n",
              "      <td>neutral face</td>\n",
              "    </tr>\n",
              "    <tr>\n",
              "      <th>44</th>\n",
              "      <td>Neutral</td>\n",
              "      <td>pout face</td>\n",
              "    </tr>\n",
              "    <tr>\n",
              "      <th>48</th>\n",
              "      <td>Neutral</td>\n",
              "      <td>beam face smile eye</td>\n",
              "    </tr>\n",
              "    <tr>\n",
              "      <th>56</th>\n",
              "      <td>Neutral</td>\n",
              "      <td>face tear joy</td>\n",
              "    </tr>\n",
              "  </tbody>\n",
              "</table>\n",
              "</div>\n",
              "      <button class=\"colab-df-convert\" onclick=\"convertToInteractive('df-5ef2f6d0-6f6a-4d4f-b194-5d3ec994e139')\"\n",
              "              title=\"Convert this dataframe to an interactive table.\"\n",
              "              style=\"display:none;\">\n",
              "        \n",
              "  <svg xmlns=\"http://www.w3.org/2000/svg\" height=\"24px\"viewBox=\"0 0 24 24\"\n",
              "       width=\"24px\">\n",
              "    <path d=\"M0 0h24v24H0V0z\" fill=\"none\"/>\n",
              "    <path d=\"M18.56 5.44l.94 2.06.94-2.06 2.06-.94-2.06-.94-.94-2.06-.94 2.06-2.06.94zm-11 1L8.5 8.5l.94-2.06 2.06-.94-2.06-.94L8.5 2.5l-.94 2.06-2.06.94zm10 10l.94 2.06.94-2.06 2.06-.94-2.06-.94-.94-2.06-.94 2.06-2.06.94z\"/><path d=\"M17.41 7.96l-1.37-1.37c-.4-.4-.92-.59-1.43-.59-.52 0-1.04.2-1.43.59L10.3 9.45l-7.72 7.72c-.78.78-.78 2.05 0 2.83L4 21.41c.39.39.9.59 1.41.59.51 0 1.02-.2 1.41-.59l7.78-7.78 2.81-2.81c.8-.78.8-2.07 0-2.86zM5.41 20L4 18.59l7.72-7.72 1.47 1.35L5.41 20z\"/>\n",
              "  </svg>\n",
              "      </button>\n",
              "      \n",
              "  <style>\n",
              "    .colab-df-container {\n",
              "      display:flex;\n",
              "      flex-wrap:wrap;\n",
              "      gap: 12px;\n",
              "    }\n",
              "\n",
              "    .colab-df-convert {\n",
              "      background-color: #E8F0FE;\n",
              "      border: none;\n",
              "      border-radius: 50%;\n",
              "      cursor: pointer;\n",
              "      display: none;\n",
              "      fill: #1967D2;\n",
              "      height: 32px;\n",
              "      padding: 0 0 0 0;\n",
              "      width: 32px;\n",
              "    }\n",
              "\n",
              "    .colab-df-convert:hover {\n",
              "      background-color: #E2EBFA;\n",
              "      box-shadow: 0px 1px 2px rgba(60, 64, 67, 0.3), 0px 1px 3px 1px rgba(60, 64, 67, 0.15);\n",
              "      fill: #174EA6;\n",
              "    }\n",
              "\n",
              "    [theme=dark] .colab-df-convert {\n",
              "      background-color: #3B4455;\n",
              "      fill: #D2E3FC;\n",
              "    }\n",
              "\n",
              "    [theme=dark] .colab-df-convert:hover {\n",
              "      background-color: #434B5C;\n",
              "      box-shadow: 0px 1px 3px 1px rgba(0, 0, 0, 0.15);\n",
              "      filter: drop-shadow(0px 1px 2px rgba(0, 0, 0, 0.3));\n",
              "      fill: #FFFFFF;\n",
              "    }\n",
              "  </style>\n",
              "\n",
              "      <script>\n",
              "        const buttonEl =\n",
              "          document.querySelector('#df-5ef2f6d0-6f6a-4d4f-b194-5d3ec994e139 button.colab-df-convert');\n",
              "        buttonEl.style.display =\n",
              "          google.colab.kernel.accessAllowed ? 'block' : 'none';\n",
              "\n",
              "        async function convertToInteractive(key) {\n",
              "          const element = document.querySelector('#df-5ef2f6d0-6f6a-4d4f-b194-5d3ec994e139');\n",
              "          const dataTable =\n",
              "            await google.colab.kernel.invokeFunction('convertToInteractive',\n",
              "                                                     [key], {});\n",
              "          if (!dataTable) return;\n",
              "\n",
              "          const docLinkHtml = 'Like what you see? Visit the ' +\n",
              "            '<a target=\"_blank\" href=https://colab.research.google.com/notebooks/data_table.ipynb>data table notebook</a>'\n",
              "            + ' to learn more about interactive tables.';\n",
              "          element.innerHTML = '';\n",
              "          dataTable['output_type'] = 'display_data';\n",
              "          await google.colab.output.renderOutput(dataTable, element);\n",
              "          const docLink = document.createElement('div');\n",
              "          docLink.innerHTML = docLinkHtml;\n",
              "          element.appendChild(docLink);\n",
              "        }\n",
              "      </script>\n",
              "    </div>\n",
              "  </div>\n",
              "  "
            ]
          },
          "metadata": {},
          "execution_count": 17
        }
      ]
    },
    {
      "cell_type": "code",
      "source": [
        "from sklearn.feature_extraction.text import TfidfVectorizer,CountVectorizer"
      ],
      "metadata": {
        "id": "nyMB4qjrg3iu"
      },
      "execution_count": null,
      "outputs": []
    },
    {
      "cell_type": "code",
      "source": [
        "max_features = 1500\n",
        "count_vector = CountVectorizer(max_features = max_features)  \n",
        "X1= count_vector.fit_transform(DF['Con_emoji_meanings']).toarray() \n",
        "X1"
      ],
      "metadata": {
        "colab": {
          "base_uri": "https://localhost:8080/"
        },
        "id": "l-MLj_ZigwBw",
        "outputId": "c1d09662-4c18-4677-e201-dd07c36db9c4"
      },
      "execution_count": null,
      "outputs": [
        {
          "output_type": "execute_result",
          "data": {
            "text/plain": [
              "array([[0, 0, 0, ..., 0, 0, 0],\n",
              "       [0, 0, 0, ..., 0, 0, 0],\n",
              "       [0, 0, 0, ..., 0, 0, 0],\n",
              "       ...,\n",
              "       [0, 0, 0, ..., 0, 0, 0],\n",
              "       [0, 0, 0, ..., 0, 0, 0],\n",
              "       [0, 0, 0, ..., 0, 0, 0]])"
            ]
          },
          "metadata": {},
          "execution_count": 19
        }
      ]
    },
    {
      "cell_type": "code",
      "source": [
        "f = pd.DataFrame(X1,columns=count_vector.get_feature_names())\n",
        "f"
      ],
      "metadata": {
        "colab": {
          "base_uri": "https://localhost:8080/",
          "height": 522
        },
        "id": "GxkVoPPeg7V-",
        "outputId": "3191ed7d-cb56-49a9-914d-04c4cf46238d"
      },
      "execution_count": null,
      "outputs": [
        {
          "output_type": "stream",
          "name": "stderr",
          "text": [
            "/usr/local/lib/python3.8/dist-packages/sklearn/utils/deprecation.py:87: FutureWarning: Function get_feature_names is deprecated; get_feature_names is deprecated in 1.0 and will be removed in 1.2. Please use get_feature_names_out instead.\n",
            "  warnings.warn(msg, category=FutureWarning)\n"
          ]
        },
        {
          "output_type": "execute_result",
          "data": {
            "text/plain": [
              "     angri  anguish  astonish  beam  big  blow  broken  cat  confound  confus  \\\n",
              "0        0        0         0     0    0     0       0    0         0       0   \n",
              "1        0        0         0     0    0     0       0    0         0       0   \n",
              "2        0        0         0     0    0     0       0    0         0       0   \n",
              "3        0        0         0     0    0     0       0    0         0       0   \n",
              "4        0        0         0     0    0     0       0    0         0       0   \n",
              "..     ...      ...       ...   ...  ...   ...     ...  ...       ...     ...   \n",
              "419      1        0         0     0    0     0       0    0         0       0   \n",
              "420      0        0         0     0    0     0       0    0         0       0   \n",
              "421      0        0         0     0    0     0       0    0         0       0   \n",
              "422      0        0         0     0    0     0       0    0         0       0   \n",
              "423      0        0         0     0    0     0       0    0         0       0   \n",
              "\n",
              "     ...  smile  smirk  squint  steam  sunglass  sweat  tear  tongu  weari  \\\n",
              "0    ...      0      0       0      0         0      0     2      0      0   \n",
              "1    ...      0      1       0      0         0      1     0      0      0   \n",
              "2    ...      0      0       0      0         0      0     0      0      0   \n",
              "3    ...      0      0       0      0         0      0     1      0      0   \n",
              "4    ...      1      0       0      0         0      0     0      0      0   \n",
              "..   ...    ...    ...     ...    ...       ...    ...   ...    ...    ...   \n",
              "419  ...      0      0       0      0         0      0     0      0      0   \n",
              "420  ...      0      0       0      0         0      0     3      0      0   \n",
              "421  ...      0      0       0      0         0      0     0      0      0   \n",
              "422  ...      0      0       0      0         0      0     1      0      0   \n",
              "423  ...      1      0       0      0         0      0     0      0      0   \n",
              "\n",
              "     wink  \n",
              "0       0  \n",
              "1       0  \n",
              "2       0  \n",
              "3       0  \n",
              "4       0  \n",
              "..    ...  \n",
              "419     0  \n",
              "420     0  \n",
              "421     0  \n",
              "422     0  \n",
              "423     0  \n",
              "\n",
              "[424 rows x 45 columns]"
            ],
            "text/html": [
              "\n",
              "  <div id=\"df-330de98c-c619-4491-920f-c7b03e41af7e\">\n",
              "    <div class=\"colab-df-container\">\n",
              "      <div>\n",
              "<style scoped>\n",
              "    .dataframe tbody tr th:only-of-type {\n",
              "        vertical-align: middle;\n",
              "    }\n",
              "\n",
              "    .dataframe tbody tr th {\n",
              "        vertical-align: top;\n",
              "    }\n",
              "\n",
              "    .dataframe thead th {\n",
              "        text-align: right;\n",
              "    }\n",
              "</style>\n",
              "<table border=\"1\" class=\"dataframe\">\n",
              "  <thead>\n",
              "    <tr style=\"text-align: right;\">\n",
              "      <th></th>\n",
              "      <th>angri</th>\n",
              "      <th>anguish</th>\n",
              "      <th>astonish</th>\n",
              "      <th>beam</th>\n",
              "      <th>big</th>\n",
              "      <th>blow</th>\n",
              "      <th>broken</th>\n",
              "      <th>cat</th>\n",
              "      <th>confound</th>\n",
              "      <th>confus</th>\n",
              "      <th>...</th>\n",
              "      <th>smile</th>\n",
              "      <th>smirk</th>\n",
              "      <th>squint</th>\n",
              "      <th>steam</th>\n",
              "      <th>sunglass</th>\n",
              "      <th>sweat</th>\n",
              "      <th>tear</th>\n",
              "      <th>tongu</th>\n",
              "      <th>weari</th>\n",
              "      <th>wink</th>\n",
              "    </tr>\n",
              "  </thead>\n",
              "  <tbody>\n",
              "    <tr>\n",
              "      <th>0</th>\n",
              "      <td>0</td>\n",
              "      <td>0</td>\n",
              "      <td>0</td>\n",
              "      <td>0</td>\n",
              "      <td>0</td>\n",
              "      <td>0</td>\n",
              "      <td>0</td>\n",
              "      <td>0</td>\n",
              "      <td>0</td>\n",
              "      <td>0</td>\n",
              "      <td>...</td>\n",
              "      <td>0</td>\n",
              "      <td>0</td>\n",
              "      <td>0</td>\n",
              "      <td>0</td>\n",
              "      <td>0</td>\n",
              "      <td>0</td>\n",
              "      <td>2</td>\n",
              "      <td>0</td>\n",
              "      <td>0</td>\n",
              "      <td>0</td>\n",
              "    </tr>\n",
              "    <tr>\n",
              "      <th>1</th>\n",
              "      <td>0</td>\n",
              "      <td>0</td>\n",
              "      <td>0</td>\n",
              "      <td>0</td>\n",
              "      <td>0</td>\n",
              "      <td>0</td>\n",
              "      <td>0</td>\n",
              "      <td>0</td>\n",
              "      <td>0</td>\n",
              "      <td>0</td>\n",
              "      <td>...</td>\n",
              "      <td>0</td>\n",
              "      <td>1</td>\n",
              "      <td>0</td>\n",
              "      <td>0</td>\n",
              "      <td>0</td>\n",
              "      <td>1</td>\n",
              "      <td>0</td>\n",
              "      <td>0</td>\n",
              "      <td>0</td>\n",
              "      <td>0</td>\n",
              "    </tr>\n",
              "    <tr>\n",
              "      <th>2</th>\n",
              "      <td>0</td>\n",
              "      <td>0</td>\n",
              "      <td>0</td>\n",
              "      <td>0</td>\n",
              "      <td>0</td>\n",
              "      <td>0</td>\n",
              "      <td>0</td>\n",
              "      <td>0</td>\n",
              "      <td>0</td>\n",
              "      <td>0</td>\n",
              "      <td>...</td>\n",
              "      <td>0</td>\n",
              "      <td>0</td>\n",
              "      <td>0</td>\n",
              "      <td>0</td>\n",
              "      <td>0</td>\n",
              "      <td>0</td>\n",
              "      <td>0</td>\n",
              "      <td>0</td>\n",
              "      <td>0</td>\n",
              "      <td>0</td>\n",
              "    </tr>\n",
              "    <tr>\n",
              "      <th>3</th>\n",
              "      <td>0</td>\n",
              "      <td>0</td>\n",
              "      <td>0</td>\n",
              "      <td>0</td>\n",
              "      <td>0</td>\n",
              "      <td>0</td>\n",
              "      <td>0</td>\n",
              "      <td>0</td>\n",
              "      <td>0</td>\n",
              "      <td>0</td>\n",
              "      <td>...</td>\n",
              "      <td>0</td>\n",
              "      <td>0</td>\n",
              "      <td>0</td>\n",
              "      <td>0</td>\n",
              "      <td>0</td>\n",
              "      <td>0</td>\n",
              "      <td>1</td>\n",
              "      <td>0</td>\n",
              "      <td>0</td>\n",
              "      <td>0</td>\n",
              "    </tr>\n",
              "    <tr>\n",
              "      <th>4</th>\n",
              "      <td>0</td>\n",
              "      <td>0</td>\n",
              "      <td>0</td>\n",
              "      <td>0</td>\n",
              "      <td>0</td>\n",
              "      <td>0</td>\n",
              "      <td>0</td>\n",
              "      <td>0</td>\n",
              "      <td>0</td>\n",
              "      <td>0</td>\n",
              "      <td>...</td>\n",
              "      <td>1</td>\n",
              "      <td>0</td>\n",
              "      <td>0</td>\n",
              "      <td>0</td>\n",
              "      <td>0</td>\n",
              "      <td>0</td>\n",
              "      <td>0</td>\n",
              "      <td>0</td>\n",
              "      <td>0</td>\n",
              "      <td>0</td>\n",
              "    </tr>\n",
              "    <tr>\n",
              "      <th>...</th>\n",
              "      <td>...</td>\n",
              "      <td>...</td>\n",
              "      <td>...</td>\n",
              "      <td>...</td>\n",
              "      <td>...</td>\n",
              "      <td>...</td>\n",
              "      <td>...</td>\n",
              "      <td>...</td>\n",
              "      <td>...</td>\n",
              "      <td>...</td>\n",
              "      <td>...</td>\n",
              "      <td>...</td>\n",
              "      <td>...</td>\n",
              "      <td>...</td>\n",
              "      <td>...</td>\n",
              "      <td>...</td>\n",
              "      <td>...</td>\n",
              "      <td>...</td>\n",
              "      <td>...</td>\n",
              "      <td>...</td>\n",
              "      <td>...</td>\n",
              "    </tr>\n",
              "    <tr>\n",
              "      <th>419</th>\n",
              "      <td>1</td>\n",
              "      <td>0</td>\n",
              "      <td>0</td>\n",
              "      <td>0</td>\n",
              "      <td>0</td>\n",
              "      <td>0</td>\n",
              "      <td>0</td>\n",
              "      <td>0</td>\n",
              "      <td>0</td>\n",
              "      <td>0</td>\n",
              "      <td>...</td>\n",
              "      <td>0</td>\n",
              "      <td>0</td>\n",
              "      <td>0</td>\n",
              "      <td>0</td>\n",
              "      <td>0</td>\n",
              "      <td>0</td>\n",
              "      <td>0</td>\n",
              "      <td>0</td>\n",
              "      <td>0</td>\n",
              "      <td>0</td>\n",
              "    </tr>\n",
              "    <tr>\n",
              "      <th>420</th>\n",
              "      <td>0</td>\n",
              "      <td>0</td>\n",
              "      <td>0</td>\n",
              "      <td>0</td>\n",
              "      <td>0</td>\n",
              "      <td>0</td>\n",
              "      <td>0</td>\n",
              "      <td>0</td>\n",
              "      <td>0</td>\n",
              "      <td>0</td>\n",
              "      <td>...</td>\n",
              "      <td>0</td>\n",
              "      <td>0</td>\n",
              "      <td>0</td>\n",
              "      <td>0</td>\n",
              "      <td>0</td>\n",
              "      <td>0</td>\n",
              "      <td>3</td>\n",
              "      <td>0</td>\n",
              "      <td>0</td>\n",
              "      <td>0</td>\n",
              "    </tr>\n",
              "    <tr>\n",
              "      <th>421</th>\n",
              "      <td>0</td>\n",
              "      <td>0</td>\n",
              "      <td>0</td>\n",
              "      <td>0</td>\n",
              "      <td>0</td>\n",
              "      <td>0</td>\n",
              "      <td>0</td>\n",
              "      <td>0</td>\n",
              "      <td>0</td>\n",
              "      <td>0</td>\n",
              "      <td>...</td>\n",
              "      <td>0</td>\n",
              "      <td>0</td>\n",
              "      <td>0</td>\n",
              "      <td>0</td>\n",
              "      <td>0</td>\n",
              "      <td>0</td>\n",
              "      <td>0</td>\n",
              "      <td>0</td>\n",
              "      <td>0</td>\n",
              "      <td>0</td>\n",
              "    </tr>\n",
              "    <tr>\n",
              "      <th>422</th>\n",
              "      <td>0</td>\n",
              "      <td>0</td>\n",
              "      <td>0</td>\n",
              "      <td>0</td>\n",
              "      <td>0</td>\n",
              "      <td>0</td>\n",
              "      <td>0</td>\n",
              "      <td>0</td>\n",
              "      <td>0</td>\n",
              "      <td>0</td>\n",
              "      <td>...</td>\n",
              "      <td>0</td>\n",
              "      <td>0</td>\n",
              "      <td>0</td>\n",
              "      <td>0</td>\n",
              "      <td>0</td>\n",
              "      <td>0</td>\n",
              "      <td>1</td>\n",
              "      <td>0</td>\n",
              "      <td>0</td>\n",
              "      <td>0</td>\n",
              "    </tr>\n",
              "    <tr>\n",
              "      <th>423</th>\n",
              "      <td>0</td>\n",
              "      <td>0</td>\n",
              "      <td>0</td>\n",
              "      <td>0</td>\n",
              "      <td>0</td>\n",
              "      <td>0</td>\n",
              "      <td>0</td>\n",
              "      <td>0</td>\n",
              "      <td>0</td>\n",
              "      <td>0</td>\n",
              "      <td>...</td>\n",
              "      <td>1</td>\n",
              "      <td>0</td>\n",
              "      <td>0</td>\n",
              "      <td>0</td>\n",
              "      <td>0</td>\n",
              "      <td>0</td>\n",
              "      <td>0</td>\n",
              "      <td>0</td>\n",
              "      <td>0</td>\n",
              "      <td>0</td>\n",
              "    </tr>\n",
              "  </tbody>\n",
              "</table>\n",
              "<p>424 rows × 45 columns</p>\n",
              "</div>\n",
              "      <button class=\"colab-df-convert\" onclick=\"convertToInteractive('df-330de98c-c619-4491-920f-c7b03e41af7e')\"\n",
              "              title=\"Convert this dataframe to an interactive table.\"\n",
              "              style=\"display:none;\">\n",
              "        \n",
              "  <svg xmlns=\"http://www.w3.org/2000/svg\" height=\"24px\"viewBox=\"0 0 24 24\"\n",
              "       width=\"24px\">\n",
              "    <path d=\"M0 0h24v24H0V0z\" fill=\"none\"/>\n",
              "    <path d=\"M18.56 5.44l.94 2.06.94-2.06 2.06-.94-2.06-.94-.94-2.06-.94 2.06-2.06.94zm-11 1L8.5 8.5l.94-2.06 2.06-.94-2.06-.94L8.5 2.5l-.94 2.06-2.06.94zm10 10l.94 2.06.94-2.06 2.06-.94-2.06-.94-.94-2.06-.94 2.06-2.06.94z\"/><path d=\"M17.41 7.96l-1.37-1.37c-.4-.4-.92-.59-1.43-.59-.52 0-1.04.2-1.43.59L10.3 9.45l-7.72 7.72c-.78.78-.78 2.05 0 2.83L4 21.41c.39.39.9.59 1.41.59.51 0 1.02-.2 1.41-.59l7.78-7.78 2.81-2.81c.8-.78.8-2.07 0-2.86zM5.41 20L4 18.59l7.72-7.72 1.47 1.35L5.41 20z\"/>\n",
              "  </svg>\n",
              "      </button>\n",
              "      \n",
              "  <style>\n",
              "    .colab-df-container {\n",
              "      display:flex;\n",
              "      flex-wrap:wrap;\n",
              "      gap: 12px;\n",
              "    }\n",
              "\n",
              "    .colab-df-convert {\n",
              "      background-color: #E8F0FE;\n",
              "      border: none;\n",
              "      border-radius: 50%;\n",
              "      cursor: pointer;\n",
              "      display: none;\n",
              "      fill: #1967D2;\n",
              "      height: 32px;\n",
              "      padding: 0 0 0 0;\n",
              "      width: 32px;\n",
              "    }\n",
              "\n",
              "    .colab-df-convert:hover {\n",
              "      background-color: #E2EBFA;\n",
              "      box-shadow: 0px 1px 2px rgba(60, 64, 67, 0.3), 0px 1px 3px 1px rgba(60, 64, 67, 0.15);\n",
              "      fill: #174EA6;\n",
              "    }\n",
              "\n",
              "    [theme=dark] .colab-df-convert {\n",
              "      background-color: #3B4455;\n",
              "      fill: #D2E3FC;\n",
              "    }\n",
              "\n",
              "    [theme=dark] .colab-df-convert:hover {\n",
              "      background-color: #434B5C;\n",
              "      box-shadow: 0px 1px 3px 1px rgba(0, 0, 0, 0.15);\n",
              "      filter: drop-shadow(0px 1px 2px rgba(0, 0, 0, 0.3));\n",
              "      fill: #FFFFFF;\n",
              "    }\n",
              "  </style>\n",
              "\n",
              "      <script>\n",
              "        const buttonEl =\n",
              "          document.querySelector('#df-330de98c-c619-4491-920f-c7b03e41af7e button.colab-df-convert');\n",
              "        buttonEl.style.display =\n",
              "          google.colab.kernel.accessAllowed ? 'block' : 'none';\n",
              "\n",
              "        async function convertToInteractive(key) {\n",
              "          const element = document.querySelector('#df-330de98c-c619-4491-920f-c7b03e41af7e');\n",
              "          const dataTable =\n",
              "            await google.colab.kernel.invokeFunction('convertToInteractive',\n",
              "                                                     [key], {});\n",
              "          if (!dataTable) return;\n",
              "\n",
              "          const docLinkHtml = 'Like what you see? Visit the ' +\n",
              "            '<a target=\"_blank\" href=https://colab.research.google.com/notebooks/data_table.ipynb>data table notebook</a>'\n",
              "            + ' to learn more about interactive tables.';\n",
              "          element.innerHTML = '';\n",
              "          dataTable['output_type'] = 'display_data';\n",
              "          await google.colab.output.renderOutput(dataTable, element);\n",
              "          const docLink = document.createElement('div');\n",
              "          docLink.innerHTML = docLinkHtml;\n",
              "          element.appendChild(docLink);\n",
              "        }\n",
              "      </script>\n",
              "    </div>\n",
              "  </div>\n",
              "  "
            ]
          },
          "metadata": {},
          "execution_count": 20
        }
      ]
    },
    {
      "cell_type": "code",
      "source": [
        "from sklearn.preprocessing import LabelEncoder"
      ],
      "metadata": {
        "id": "7qT36dvxhicy"
      },
      "execution_count": null,
      "outputs": []
    },
    {
      "cell_type": "code",
      "source": [
        "# convert classes to number\n",
        "encoder = LabelEncoder()\n",
        "y1 = encoder.fit_transform(DF['Class'])\n",
        "y1"
      ],
      "metadata": {
        "colab": {
          "base_uri": "https://localhost:8080/"
        },
        "id": "qKTJUv91hGKG",
        "outputId": "e5ff6fb2-897b-42cb-f08b-a465fdb6b74c"
      },
      "execution_count": null,
      "outputs": [
        {
          "output_type": "execute_result",
          "data": {
            "text/plain": [
              "array([0, 0, 0, 0, 2, 3, 3, 0, 0, 0, 0, 0, 0, 0, 0, 0, 0, 0, 0, 0, 0, 0,\n",
              "       2, 0, 0, 0, 0, 0, 0, 0, 0, 0, 0, 0, 0, 0, 0, 0, 0, 0, 4, 0, 4, 0,\n",
              "       0, 0, 0, 0, 0, 0, 0, 0, 4, 0, 0, 0, 0, 0, 0, 0, 0, 0, 0, 0, 0, 0,\n",
              "       0, 0, 0, 0, 0, 0, 0, 0, 0, 0, 0, 0, 0, 0, 0, 0, 0, 0, 0, 0, 0, 0,\n",
              "       0, 0, 0, 0, 0, 0, 0, 0, 0, 0, 0, 0, 1, 0, 0, 0, 0, 0, 0, 0, 0, 1,\n",
              "       0, 0, 0, 0, 0, 0, 0, 0, 0, 0, 0, 0, 0, 0, 0, 0, 0, 0, 0, 0, 0, 0,\n",
              "       0, 0, 0, 0, 0, 0, 0, 0, 0, 0, 0, 0, 0, 0, 5, 0, 0, 0, 0, 0, 0, 0,\n",
              "       0, 0, 0, 0, 0, 0, 0, 0, 0, 0, 0, 3, 0, 0, 0, 0, 0, 0, 0, 0, 0, 0,\n",
              "       0, 0, 0, 0, 0, 0, 0, 0, 0, 0, 0, 5, 0, 0, 5, 0, 0, 0, 0, 0, 0, 0,\n",
              "       0, 0, 0, 0, 0, 0, 0, 0, 0, 0, 0, 0, 0, 0, 0, 0, 0, 0, 0, 0, 0, 0,\n",
              "       0, 0, 0, 2, 0, 0, 0, 2, 0, 2, 0, 2, 0, 0, 2, 0, 0, 0, 0, 0, 0, 0,\n",
              "       0, 0, 3, 0, 0, 0, 0, 0, 0, 0, 0, 0, 0, 0, 0, 0, 0, 0, 0, 0, 3, 0,\n",
              "       0, 0, 0, 0, 0, 0, 0, 0, 0, 0, 0, 0, 0, 0, 0, 0, 0, 0, 0, 4, 4, 4,\n",
              "       4, 4, 2, 4, 4, 1, 0, 4, 0, 0, 2, 4, 4, 4, 4, 4, 4, 0, 0, 4, 4, 4,\n",
              "       4, 4, 4, 4, 4, 4, 4, 0, 0, 4, 0, 0, 4, 4, 4, 4, 4, 4, 4, 0, 4, 4,\n",
              "       4, 0, 0, 0, 0, 0, 0, 0, 0, 0, 0, 0, 4, 0, 4, 4, 4, 4, 4, 4, 4, 4,\n",
              "       4, 4, 4, 4, 0, 2, 2, 0, 0, 0, 0, 0, 0, 0, 0, 2, 2, 2, 0, 0, 2, 2,\n",
              "       3, 5, 5, 5, 5, 5, 5, 5, 5, 5, 5, 5, 5, 5, 5, 5, 5, 5, 5, 5, 5, 5,\n",
              "       5, 5, 5, 5, 5, 5, 5, 1, 1, 1, 3, 1, 1, 1, 1, 1, 1, 1, 1, 1, 1, 1,\n",
              "       3, 3, 1, 2, 3, 1])"
            ]
          },
          "metadata": {},
          "execution_count": 22
        }
      ]
    },
    {
      "cell_type": "code",
      "source": [
        "from sklearn.model_selection import train_test_split, GridSearchCV"
      ],
      "metadata": {
        "id": "Tdd1qYSehrod"
      },
      "execution_count": null,
      "outputs": []
    },
    {
      "cell_type": "code",
      "source": [
        "from sklearn.metrics import accuracy_score, recall_score, precision_score, confusion_matrix,classification_report,ConfusionMatrixDisplay"
      ],
      "metadata": {
        "id": "h-PJestiiH-A"
      },
      "execution_count": null,
      "outputs": []
    },
    {
      "cell_type": "code",
      "source": [
        "X1_train, X1_test, y1_train, y1_test = train_test_split(X1,y1, test_size =0.2, random_state=42)"
      ],
      "metadata": {
        "id": "dF9zqw-1hkuc"
      },
      "execution_count": null,
      "outputs": []
    },
    {
      "cell_type": "markdown",
      "source": [
        "# **RANDOM FOREST**"
      ],
      "metadata": {
        "id": "vrP1MV0SiOX8"
      }
    },
    {
      "cell_type": "code",
      "source": [
        "from sklearn.ensemble import RandomForestClassifier\n",
        "rf = RandomForestClassifier(n_estimators=10, random_state=0, class_weight={0:0.11 ,1: 0.12 ,2:0.67 ,3: 0.03, 4:0.05})  \n",
        "rf.fit(X1_train, y1_train)\n",
        "\n",
        "print(\"Training Accuracy :\" , accuracy_score(y1_train, rf.predict(X1_train))*100 )\n",
        "\n",
        "predictions2 = rf.predict(X1_test)\n",
        "#print(confusion_matrix(Y_test,predictions2))  \n",
        "print(classification_report(y1_test,predictions2))  \n",
        "print(\"TEST ACCURACY  : \",accuracy_score(y1_test, predictions2)*100)"
      ],
      "metadata": {
        "colab": {
          "base_uri": "https://localhost:8080/"
        },
        "id": "TQbABazVh3P2",
        "outputId": "86a64192-5568-45f2-80a7-31b95b840f7b"
      },
      "execution_count": null,
      "outputs": [
        {
          "output_type": "stream",
          "name": "stdout",
          "text": [
            "Training Accuracy : 71.68141592920354\n",
            "              precision    recall  f1-score   support\n",
            "\n",
            "           0       0.77      0.88      0.82        64\n",
            "           1       0.00      0.00      0.00         5\n",
            "           2       0.00      0.00      0.00         4\n",
            "           3       0.00      0.00      0.00         2\n",
            "           4       0.00      0.00      0.00         7\n",
            "           5       0.22      0.67      0.33         3\n",
            "\n",
            "    accuracy                           0.68        85\n",
            "   macro avg       0.16      0.26      0.19        85\n",
            "weighted avg       0.59      0.68      0.63        85\n",
            "\n",
            "TEST ACCURACY  :  68.23529411764706\n"
          ]
        },
        {
          "output_type": "stream",
          "name": "stderr",
          "text": [
            "/usr/local/lib/python3.8/dist-packages/sklearn/metrics/_classification.py:1318: UndefinedMetricWarning: Precision and F-score are ill-defined and being set to 0.0 in labels with no predicted samples. Use `zero_division` parameter to control this behavior.\n",
            "  _warn_prf(average, modifier, msg_start, len(result))\n",
            "/usr/local/lib/python3.8/dist-packages/sklearn/metrics/_classification.py:1318: UndefinedMetricWarning: Precision and F-score are ill-defined and being set to 0.0 in labels with no predicted samples. Use `zero_division` parameter to control this behavior.\n",
            "  _warn_prf(average, modifier, msg_start, len(result))\n",
            "/usr/local/lib/python3.8/dist-packages/sklearn/metrics/_classification.py:1318: UndefinedMetricWarning: Precision and F-score are ill-defined and being set to 0.0 in labels with no predicted samples. Use `zero_division` parameter to control this behavior.\n",
            "  _warn_prf(average, modifier, msg_start, len(result))\n"
          ]
        }
      ]
    },
    {
      "cell_type": "markdown",
      "source": [
        "# **HYPERPARAMETER FOR RANDOM FOREST**"
      ],
      "metadata": {
        "id": "8dIhb1rgZb1w"
      }
    },
    {
      "cell_type": "code",
      "source": [
        "rf_hy = RandomForestClassifier(random_state=42, n_jobs=-1, n_estimators=10)\n",
        "rf_hy.fit(X1_train, y1_train)\n",
        "print(\"Training Accuracy :\" , accuracy_score(y1_train, rf_hy.predict(X1_train))*100 )\n",
        "\n",
        "predictions2 = rf_hy.predict(X1_test)\n",
        "#print(confusion_matrix(Y_test,predictions2))  \n",
        "print(classification_report(y1_test,predictions2))  \n",
        "print(\"TEST ACCURACY  : \",accuracy_score(y1_test, predictions2)*100)"
      ],
      "metadata": {
        "colab": {
          "base_uri": "https://localhost:8080/"
        },
        "id": "OnLenrXGZkuK",
        "outputId": "5da5b7f0-11ff-4013-efbf-d85b195246f4"
      },
      "execution_count": null,
      "outputs": [
        {
          "output_type": "stream",
          "name": "stdout",
          "text": [
            "Training Accuracy : 75.51622418879056\n",
            "              precision    recall  f1-score   support\n",
            "\n",
            "           0       0.74      0.94      0.83        64\n",
            "           1       0.00      0.00      0.00         5\n",
            "           2       0.00      0.00      0.00         4\n",
            "           3       0.00      0.00      0.00         2\n",
            "           4       0.00      0.00      0.00         7\n",
            "           5       0.00      0.00      0.00         3\n",
            "\n",
            "    accuracy                           0.71        85\n",
            "   macro avg       0.12      0.16      0.14        85\n",
            "weighted avg       0.56      0.71      0.62        85\n",
            "\n",
            "TEST ACCURACY  :  70.58823529411765\n"
          ]
        },
        {
          "output_type": "stream",
          "name": "stderr",
          "text": [
            "/usr/local/lib/python3.8/dist-packages/sklearn/metrics/_classification.py:1318: UndefinedMetricWarning: Precision and F-score are ill-defined and being set to 0.0 in labels with no predicted samples. Use `zero_division` parameter to control this behavior.\n",
            "  _warn_prf(average, modifier, msg_start, len(result))\n",
            "/usr/local/lib/python3.8/dist-packages/sklearn/metrics/_classification.py:1318: UndefinedMetricWarning: Precision and F-score are ill-defined and being set to 0.0 in labels with no predicted samples. Use `zero_division` parameter to control this behavior.\n",
            "  _warn_prf(average, modifier, msg_start, len(result))\n",
            "/usr/local/lib/python3.8/dist-packages/sklearn/metrics/_classification.py:1318: UndefinedMetricWarning: Precision and F-score are ill-defined and being set to 0.0 in labels with no predicted samples. Use `zero_division` parameter to control this behavior.\n",
            "  _warn_prf(average, modifier, msg_start, len(result))\n"
          ]
        }
      ]
    },
    {
      "cell_type": "markdown",
      "source": [
        "# **DECISION TREE**"
      ],
      "metadata": {
        "id": "QOXoGOGcjOii"
      }
    },
    {
      "cell_type": "code",
      "source": [
        "from sklearn.tree import DecisionTreeClassifier\n",
        "dt = DecisionTreeClassifier(criterion='entropy',splitter='best', class_weight={0:0.11 ,1: 0.12 ,2:0.67 ,3: 0.03, 4:0.05 },max_features='auto')\n",
        "dt.fit(X1_train, y1_train)\n",
        "\n",
        "print(\"Training Accuracy :\" , accuracy_score(y1_train, dt.predict(X1_train))*100 )\n",
        "\n",
        "predictions4 = dt.predict(X1_test)\n",
        "#print(confusion_matrix(Y_test,predictions4))  \n",
        "print(classification_report(y1_test,predictions4,zero_division=1))  \n",
        "print(\"TEST ACCURACY SCORE : \",accuracy_score(y1_test, predictions4)*100)"
      ],
      "metadata": {
        "colab": {
          "base_uri": "https://localhost:8080/"
        },
        "id": "x3bQ2cfGjNtS",
        "outputId": "45f1b820-c4bc-4c52-9b02-8baef92c827a"
      },
      "execution_count": null,
      "outputs": [
        {
          "output_type": "stream",
          "name": "stdout",
          "text": [
            "Training Accuracy : 65.48672566371681\n",
            "              precision    recall  f1-score   support\n",
            "\n",
            "           0       0.83      0.78      0.81        64\n",
            "           1       1.00      0.20      0.33         5\n",
            "           2       0.00      0.00      0.00         4\n",
            "           3       1.00      0.00      0.00         2\n",
            "           4       0.00      0.00      0.00         7\n",
            "           5       0.10      0.67      0.17         3\n",
            "\n",
            "    accuracy                           0.62        85\n",
            "   macro avg       0.49      0.27      0.22        85\n",
            "weighted avg       0.71      0.62      0.63        85\n",
            "\n",
            "TEST ACCURACY SCORE :  62.35294117647059\n"
          ]
        }
      ]
    },
    {
      "cell_type": "code",
      "source": [
        "dt.tree_.max_depth"
      ],
      "metadata": {
        "colab": {
          "base_uri": "https://localhost:8080/"
        },
        "id": "tRiHSuYlT66v",
        "outputId": "67401d78-fe27-4c1a-8003-7453eb36c354"
      },
      "execution_count": null,
      "outputs": [
        {
          "output_type": "execute_result",
          "data": {
            "text/plain": [
              "27"
            ]
          },
          "metadata": {},
          "execution_count": 30
        }
      ]
    },
    {
      "cell_type": "markdown",
      "source": [
        "# **HYPER PARAMETER TUNNING FOR DECISION TREE**"
      ],
      "metadata": {
        "id": "tKJzGRxiYQ7o"
      }
    },
    {
      "cell_type": "markdown",
      "source": [
        "max depth =3"
      ],
      "metadata": {
        "id": "OgxTlN-cWcIT"
      }
    },
    {
      "cell_type": "code",
      "source": [
        "dt = DecisionTreeClassifier(max_depth =3 , random_state=42)\n",
        "dt.fit(X1_train, y1_train)\n",
        "print(\"Training Accuracy :\" , accuracy_score(y1_train, dt.predict(X1_train))*100 )\n",
        "\n",
        "predictions4 = dt.predict(X1_test)\n",
        "#print(confusion_matrix(Y_test,predictions4))  \n",
        "print(classification_report(y1_test,predictions4,zero_division=1))  \n",
        "print(\"TEST ACCURACY SCORE : \",accuracy_score(y1_test, predictions4)*100)"
      ],
      "metadata": {
        "colab": {
          "base_uri": "https://localhost:8080/"
        },
        "id": "LnnFRfDwUJrf",
        "outputId": "17a5a602-6219-4368-84f1-9204bc602477"
      },
      "execution_count": null,
      "outputs": [
        {
          "output_type": "stream",
          "name": "stdout",
          "text": [
            "Training Accuracy : 71.38643067846607\n",
            "              precision    recall  f1-score   support\n",
            "\n",
            "           0       0.75      0.97      0.84        64\n",
            "           1       1.00      0.00      0.00         5\n",
            "           2       1.00      0.00      0.00         4\n",
            "           3       1.00      0.00      0.00         2\n",
            "           4       0.00      0.00      0.00         7\n",
            "           5       0.00      0.00      0.00         3\n",
            "\n",
            "    accuracy                           0.73        85\n",
            "   macro avg       0.62      0.16      0.14        85\n",
            "weighted avg       0.69      0.73      0.64        85\n",
            "\n",
            "TEST ACCURACY SCORE :  72.94117647058823\n"
          ]
        }
      ]
    },
    {
      "cell_type": "code",
      "source": [
        "dt.tree_.max_depth"
      ],
      "metadata": {
        "colab": {
          "base_uri": "https://localhost:8080/"
        },
        "id": "K7seCl67VgNS",
        "outputId": "a6b7dccc-7b05-4fed-f8d6-293ba1bd1e09"
      },
      "execution_count": null,
      "outputs": [
        {
          "output_type": "execute_result",
          "data": {
            "text/plain": [
              "3"
            ]
          },
          "metadata": {},
          "execution_count": 32
        }
      ]
    },
    {
      "cell_type": "markdown",
      "source": [
        "max_leaf_nodes =30"
      ],
      "metadata": {
        "id": "S3y91PVOWgfO"
      }
    },
    {
      "cell_type": "code",
      "source": [
        "dt = DecisionTreeClassifier( max_leaf_nodes =30, random_state=42)\n",
        "dt.fit(X1_train, y1_train)\n",
        "print(\"Training Accuracy :\" , accuracy_score(y1_train, dt.predict(X1_train))*100 )\n",
        "\n",
        "predictions4 = dt.predict(X1_test)\n",
        "#print(confusion_matrix(Y_test,predictions4))  \n",
        "print(classification_report(y1_test,predictions4,zero_division=1))  \n",
        "print(\"TEST ACCURACY SCORE : \",accuracy_score(y1_test, predictions4)*100)"
      ],
      "metadata": {
        "colab": {
          "base_uri": "https://localhost:8080/"
        },
        "id": "ngKJOEu9WasS",
        "outputId": "20249571-c1b3-472e-d01a-e480854cba69"
      },
      "execution_count": null,
      "outputs": [
        {
          "output_type": "stream",
          "name": "stdout",
          "text": [
            "Training Accuracy : 75.22123893805309\n",
            "              precision    recall  f1-score   support\n",
            "\n",
            "           0       0.74      0.94      0.83        64\n",
            "           1       1.00      0.00      0.00         5\n",
            "           2       1.00      0.00      0.00         4\n",
            "           3       1.00      0.00      0.00         2\n",
            "           4       0.00      0.00      0.00         7\n",
            "           5       0.00      0.00      0.00         3\n",
            "\n",
            "    accuracy                           0.71        85\n",
            "   macro avg       0.62      0.16      0.14        85\n",
            "weighted avg       0.69      0.71      0.62        85\n",
            "\n",
            "TEST ACCURACY SCORE :  70.58823529411765\n"
          ]
        }
      ]
    },
    {
      "cell_type": "markdown",
      "source": [
        "# **Ada Boost Classifier + Decision Tree**"
      ],
      "metadata": {
        "id": "dWMHOaF6iXS3"
      }
    },
    {
      "cell_type": "code",
      "source": [
        "from sklearn.ensemble import AdaBoostClassifier\n",
        "abc = AdaBoostClassifier(n_estimators=100 , base_estimator= dt)\n",
        "abc.fit(X1_train,y1_train)\n",
        "\n",
        "print(\"Training Accuracy :\" , accuracy_score(y1_train, abc.predict(X1_train))*100)\n",
        "\n",
        "predictions5 = abc.predict(X1_test)\n",
        "print(confusion_matrix(y1_test,predictions5))\n",
        "print(classification_report(y1_test,predictions5))\n",
        "print(\"TEST ACCURACY : \",accuracy_score(y1_test, predictions5)*100)"
      ],
      "metadata": {
        "colab": {
          "base_uri": "https://localhost:8080/"
        },
        "id": "HnvY18_FiZAb",
        "outputId": "6f60d37d-dfb8-4032-809e-c1859e7c0270"
      },
      "execution_count": null,
      "outputs": [
        {
          "output_type": "stream",
          "name": "stdout",
          "text": [
            "Training Accuracy : 68.73156342182891\n",
            "[[54  0  0  0  2  8]\n",
            " [ 4  0  0  0  0  1]\n",
            " [ 4  0  0  0  0  0]\n",
            " [ 1  0  0  0  0  1]\n",
            " [ 5  0  0  0  0  2]\n",
            " [ 2  0  0  0  0  1]]\n",
            "              precision    recall  f1-score   support\n",
            "\n",
            "           0       0.77      0.84      0.81        64\n",
            "           1       0.00      0.00      0.00         5\n",
            "           2       0.00      0.00      0.00         4\n",
            "           3       0.00      0.00      0.00         2\n",
            "           4       0.00      0.00      0.00         7\n",
            "           5       0.08      0.33      0.12         3\n",
            "\n",
            "    accuracy                           0.65        85\n",
            "   macro avg       0.14      0.20      0.16        85\n",
            "weighted avg       0.58      0.65      0.61        85\n",
            "\n",
            "TEST ACCURACY :  64.70588235294117\n"
          ]
        },
        {
          "output_type": "stream",
          "name": "stderr",
          "text": [
            "/usr/local/lib/python3.8/dist-packages/sklearn/metrics/_classification.py:1318: UndefinedMetricWarning: Precision and F-score are ill-defined and being set to 0.0 in labels with no predicted samples. Use `zero_division` parameter to control this behavior.\n",
            "  _warn_prf(average, modifier, msg_start, len(result))\n",
            "/usr/local/lib/python3.8/dist-packages/sklearn/metrics/_classification.py:1318: UndefinedMetricWarning: Precision and F-score are ill-defined and being set to 0.0 in labels with no predicted samples. Use `zero_division` parameter to control this behavior.\n",
            "  _warn_prf(average, modifier, msg_start, len(result))\n",
            "/usr/local/lib/python3.8/dist-packages/sklearn/metrics/_classification.py:1318: UndefinedMetricWarning: Precision and F-score are ill-defined and being set to 0.0 in labels with no predicted samples. Use `zero_division` parameter to control this behavior.\n",
            "  _warn_prf(average, modifier, msg_start, len(result))\n"
          ]
        }
      ]
    },
    {
      "cell_type": "markdown",
      "source": [
        "# **SVM**"
      ],
      "metadata": {
        "id": "USl0GWEdLIIu"
      }
    },
    {
      "cell_type": "code",
      "source": [
        "from sklearn.svm import LinearSVC\n",
        "sv = LinearSVC(class_weight={0:0.11 ,1: 0.12 ,2:0.67 ,3: 0.03, 4:0.05 })\n",
        "sv.fit(X1_train, y1_train)\n",
        "\n",
        "print(\"Training Accuracy :\" , accuracy_score(y1_train, sv.predict(X1_train))*100 )\n",
        "\n",
        "predictions3 = sv.predict(X1_test)\n",
        "#print(confusion_matrix(Y_test,predictions3))  \n",
        "print(classification_report(y1_test,predictions3,zero_division=1))  \n",
        "print(\" TEST ACCURACY : \",accuracy_score(y1_test, predictions3)*100)"
      ],
      "metadata": {
        "colab": {
          "base_uri": "https://localhost:8080/"
        },
        "id": "uI13jpXqLKZp",
        "outputId": "5b87448f-b48e-4167-a759-aeb57603005f"
      },
      "execution_count": null,
      "outputs": [
        {
          "output_type": "stream",
          "name": "stdout",
          "text": [
            "Training Accuracy : 68.43657817109144\n",
            "              precision    recall  f1-score   support\n",
            "\n",
            "           0       0.77      0.91      0.83        64\n",
            "           1       1.00      0.00      0.00         5\n",
            "           2       1.00      0.00      0.00         4\n",
            "           3       1.00      0.00      0.00         2\n",
            "           4       0.00      0.00      0.00         7\n",
            "           5       0.22      0.67      0.33         3\n",
            "\n",
            "    accuracy                           0.71        85\n",
            "   macro avg       0.67      0.26      0.19        85\n",
            "weighted avg       0.72      0.71      0.64        85\n",
            "\n",
            " TEST ACCURACY :  70.58823529411765\n"
          ]
        }
      ]
    },
    {
      "cell_type": "code",
      "source": [
        "from sklearn.svm import LinearSVC\n",
        "sv = LinearSVC(random_state=42)\n",
        "sv.fit(X1_train, y1_train)\n",
        "\n",
        "print(\"Training Accuracy :\" , accuracy_score(y1_train, sv.predict(X1_train))*100 )\n",
        "\n",
        "predictions3 = sv.predict(X1_test)\n",
        "#print(confusion_matrix(Y_test,predictions3))  \n",
        "print(classification_report(y1_test,predictions3,zero_division=1))  \n",
        "print(\" TEST ACCURACY : \",accuracy_score(y1_test, predictions3)*100)"
      ],
      "metadata": {
        "colab": {
          "base_uri": "https://localhost:8080/"
        },
        "id": "0DIvFFMLftcY",
        "outputId": "0e4f9a9d-30c0-4908-dbe2-83a310d3f7de"
      },
      "execution_count": null,
      "outputs": [
        {
          "output_type": "stream",
          "name": "stdout",
          "text": [
            "Training Accuracy : 73.15634218289085\n",
            "              precision    recall  f1-score   support\n",
            "\n",
            "           0       0.74      0.95      0.84        64\n",
            "           1       1.00      0.00      0.00         5\n",
            "           2       1.00      0.00      0.00         4\n",
            "           3       1.00      0.00      0.00         2\n",
            "           4       0.00      0.00      0.00         7\n",
            "           5       0.00      0.00      0.00         3\n",
            "\n",
            "    accuracy                           0.72        85\n",
            "   macro avg       0.62      0.16      0.14        85\n",
            "weighted avg       0.69      0.72      0.63        85\n",
            "\n",
            " TEST ACCURACY :  71.76470588235294\n"
          ]
        },
        {
          "output_type": "stream",
          "name": "stderr",
          "text": [
            "/usr/local/lib/python3.8/dist-packages/sklearn/svm/_base.py:1206: ConvergenceWarning: Liblinear failed to converge, increase the number of iterations.\n",
            "  warnings.warn(\n"
          ]
        }
      ]
    },
    {
      "cell_type": "code",
      "source": [
        "import numpy as np"
      ],
      "metadata": {
        "id": "yUscqEN6eUhG"
      },
      "execution_count": null,
      "outputs": []
    },
    {
      "cell_type": "markdown",
      "source": [
        " SCALE  TRAINING  DATASETS "
      ],
      "metadata": {
        "id": "y_Cs4Vd6gBgt"
      }
    },
    {
      "cell_type": "code",
      "source": [
        "from sklearn.preprocessing import StandardScaler\n",
        "scaler = StandardScaler()\n",
        "X_train_scaled = scaler.fit_transform(X1_train.astype(np.float32))\n",
        "X_test_scaled = scaler.transform(X1_test.astype(np.float32))\n",
        "lin_clf = LinearSVC(random_state=42)\n",
        "lin_clf.fit(X_train_scaled, y1_train)\n",
        "y_pred = lin_clf.predict(X_train_scaled)\n",
        "print(accuracy_score(y1_train, y_pred)*100)"
      ],
      "metadata": {
        "colab": {
          "base_uri": "https://localhost:8080/"
        },
        "id": "rO31bw9Aa-Tf",
        "outputId": "493fa035-2d06-4af5-cf3b-cec6b0aae936"
      },
      "execution_count": null,
      "outputs": [
        {
          "output_type": "stream",
          "name": "stdout",
          "text": [
            "73.74631268436578\n"
          ]
        },
        {
          "output_type": "stream",
          "name": "stderr",
          "text": [
            "/usr/local/lib/python3.8/dist-packages/sklearn/svm/_base.py:1206: ConvergenceWarning: Liblinear failed to converge, increase the number of iterations.\n",
            "  warnings.warn(\n"
          ]
        }
      ]
    },
    {
      "cell_type": "markdown",
      "source": [
        "## **use kernels**\n",
        "Kernels are a way in ML to add more flexibility to the algorithm by adding the polynomial degree of the dataset without increasing the features"
      ],
      "metadata": {
        "id": "oSnCy6WbgVbq"
      }
    },
    {
      "cell_type": "code",
      "source": [
        "from sklearn.svm import SVC\n",
        "svm_clf = SVC(gamma='scale')\n",
        "svm_clf.fit(X_train_scaled[:10000], y1_train[:10000]) # We use an SVC with an RBF kernel\n",
        "y_pred = svm_clf.predict(X_train_scaled)\n",
        "print(accuracy_score(y1_train, y_pred)*100)"
      ],
      "metadata": {
        "colab": {
          "base_uri": "https://localhost:8080/"
        },
        "id": "RkZkEl3OezUa",
        "outputId": "084a76cc-8c09-4801-9474-562af60af362"
      },
      "execution_count": null,
      "outputs": [
        {
          "output_type": "stream",
          "name": "stdout",
          "text": [
            "72.86135693215338\n"
          ]
        }
      ]
    }
  ]
}