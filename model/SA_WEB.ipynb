{
  "nbformat": 4,
  "nbformat_minor": 0,
  "metadata": {
    "colab": {
      "provenance": [],
      "authorship_tag": "ABX9TyNCeyRRkVuOCh03E8OsY/ua",
      "include_colab_link": true
    },
    "kernelspec": {
      "name": "python3",
      "display_name": "Python 3"
    },
    "language_info": {
      "name": "python"
    }
  },
  "cells": [
    {
      "cell_type": "markdown",
      "metadata": {
        "id": "view-in-github",
        "colab_type": "text"
      },
      "source": [
        "<a href=\"https://colab.research.google.com/github/AshvinVignesh/Sentiment-Analysis/blob/master/model/SA_WEB.ipynb\" target=\"_parent\"><img src=\"https://colab.research.google.com/assets/colab-badge.svg\" alt=\"Open In Colab\"/></a>"
      ]
    },
    {
      "cell_type": "code",
      "source": [
        "!pip install emoji==1.2.0"
      ],
      "metadata": {
        "colab": {
          "base_uri": "https://localhost:8080/"
        },
        "id": "o8tmTwROMXKD",
        "outputId": "a5d034c7-9b86-4b02-9fc7-748e1d9c34fb"
      },
      "execution_count": 58,
      "outputs": [
        {
          "output_type": "stream",
          "name": "stdout",
          "text": [
            "Looking in indexes: https://pypi.org/simple, https://us-python.pkg.dev/colab-wheels/public/simple/\n",
            "Requirement already satisfied: emoji==1.2.0 in /usr/local/lib/python3.9/dist-packages (1.2.0)\n"
          ]
        }
      ]
    },
    {
      "cell_type": "code",
      "source": [
        "!pip install sinling"
      ],
      "metadata": {
        "colab": {
          "base_uri": "https://localhost:8080/"
        },
        "id": "qvYsLMppcWOU",
        "outputId": "1abd0f7f-91a3-41e1-b706-c029b3005f78"
      },
      "execution_count": 59,
      "outputs": [
        {
          "output_type": "stream",
          "name": "stdout",
          "text": [
            "Looking in indexes: https://pypi.org/simple, https://us-python.pkg.dev/colab-wheels/public/simple/\n",
            "Requirement already satisfied: sinling in /usr/local/lib/python3.9/dist-packages (0.3.6)\n",
            "Requirement already satisfied: joblib in /usr/local/lib/python3.9/dist-packages (from sinling) (1.1.1)\n",
            "Requirement already satisfied: sklearn-crfsuite in /usr/local/lib/python3.9/dist-packages (from sinling) (0.3.6)\n",
            "Requirement already satisfied: pygtrie in /usr/local/lib/python3.9/dist-packages (from sinling) (2.5.0)\n",
            "Requirement already satisfied: nltk in /usr/local/lib/python3.9/dist-packages (from sinling) (3.7)\n",
            "Requirement already satisfied: emoji in /usr/local/lib/python3.9/dist-packages (from sinling) (1.2.0)\n",
            "Requirement already satisfied: tqdm in /usr/local/lib/python3.9/dist-packages (from nltk->sinling) (4.65.0)\n",
            "Requirement already satisfied: regex>=2021.8.3 in /usr/local/lib/python3.9/dist-packages (from nltk->sinling) (2022.6.2)\n",
            "Requirement already satisfied: click in /usr/local/lib/python3.9/dist-packages (from nltk->sinling) (8.1.3)\n",
            "Requirement already satisfied: tabulate in /usr/local/lib/python3.9/dist-packages (from sklearn-crfsuite->sinling) (0.8.10)\n",
            "Requirement already satisfied: python-crfsuite>=0.8.3 in /usr/local/lib/python3.9/dist-packages (from sklearn-crfsuite->sinling) (0.9.9)\n",
            "Requirement already satisfied: six in /usr/local/lib/python3.9/dist-packages (from sklearn-crfsuite->sinling) (1.15.0)\n"
          ]
        }
      ]
    },
    {
      "cell_type": "code",
      "source": [
        "!pip install demoji"
      ],
      "metadata": {
        "colab": {
          "base_uri": "https://localhost:8080/"
        },
        "id": "5uTehgWaRxMJ",
        "outputId": "bd9eb644-99ed-4ac4-a9a0-02e86162940d"
      },
      "execution_count": 60,
      "outputs": [
        {
          "output_type": "stream",
          "name": "stdout",
          "text": [
            "Looking in indexes: https://pypi.org/simple, https://us-python.pkg.dev/colab-wheels/public/simple/\n",
            "Requirement already satisfied: demoji in /usr/local/lib/python3.9/dist-packages (1.1.0)\n"
          ]
        }
      ]
    },
    {
      "cell_type": "code",
      "source": [
        "import string\n",
        "import re\n",
        "import pandas as pd"
      ],
      "metadata": {
        "id": "EO6dw0vmCwNd"
      },
      "execution_count": 61,
      "outputs": []
    },
    {
      "cell_type": "code",
      "source": [
        "# text = 'RT @IndrajithLk: \"\"ඝරසරප\"\" චිත්‍රපටය, පහළ 😏 😅තියෙන 🥶 💨 🖼🥳link එකෙන් download කරගන්න https://t.co/c7LmhTPuLt'\n",
        "text ='RT @SaliyaT_R: පේනවානේ තම්බි කවදත් ඉන්නේ උන්ට වාසි පැත්තේ. එහෙම ඉදගෙන උන්ගේ ශරියාව සහ උන්ගේ බෝවීම ස්ථාවර කරගන්නවා. උන්ගේ ටාගට් එක රටේ බහුතර…'"
      ],
      "metadata": {
        "id": "mCgOw65oCCpN"
      },
      "execution_count": 238,
      "outputs": []
    },
    {
      "cell_type": "code",
      "source": [
        "text = re.sub(\"[a-zA-Z]\", \" \", text) # remove english letters\n",
        "text = re.sub('\\n', ' ', text) # remove \\n from text\n",
        "text = re.sub(r'\\d+', '', text) #remove number\n",
        "text = re.sub(r'#|@\\w*', ' ',text) #remove @ mentions\n",
        "text = re.sub(r'http\\S+', '', text) # remove links\n",
        "text = re.sub(' +', ' ',text) # remove extra space\n",
        "text = text.strip() #remove whitespaces"
      ],
      "metadata": {
        "id": "L9PgGfhfDBmi"
      },
      "execution_count": 239,
      "outputs": []
    },
    {
      "cell_type": "code",
      "source": [
        "joy = ['\\U0001F600', '\\U0001F602', '\\U0001F603', '\\U0001F604',\n",
        "          '\\U0001F606', '\\U0001F607', '\\U0001F609', '\\U0001F60A',\n",
        "          '\\U0001F60B', '\\U0001F60C', '\\U0001F60D', '\\U0001F60E',\n",
        "          '\\U0001F60F', '\\U0001F31E', '\\U0000263A', '\\U0001F618',\n",
        "          '\\U0001F61C', '\\U0001F61D', '\\U0001F61B', '\\U0001F63A',\n",
        "          '\\U0001F638', '\\U0001F639', '\\U0001F63B', '\\U0001F63C',\n",
        "          '\\U00002764', '\\U0001F496', '\\U0001F495', '\\U0001F601',\n",
        "          '\\U00002665','\\U00002764']#joy\n",
        "\n",
        "anger = ['\\U0001F62C', '\\U0001F620', '\\U0001F610',\n",
        "          '\\U0001F611', '\\U0001F620', '\\U0001F621', '\\U0001F616',\n",
        "          '\\U0001F624', '\\U0001F63E']#anger\n",
        "disgust= ['\\U0001F4A9']#disgust\n",
        "fear = ['\\U0001F605', '\\U0001F626', '\\U0001F627', '\\U0001F631',\n",
        "          '\\U0001F628', '\\U0001F630', '\\U0001F640']#fear\n",
        "sad = ['\\U0001F614', '\\U0001F615', '\\U00002639', '\\U0001F62B',\n",
        "          '\\U0001F629', '\\U0001F622', '\\U0001F625', '\\U0001F62A',\n",
        "          '\\U0001F613', '\\U0001F62D', '\\U0001F63F', '\\U0001F494']#sad\n",
        "surp = ['\\U0001F633', '\\U0001F62F', '\\U0001F635', '\\U0001F632']#surprise\n",
        "\n",
        "emojilist = {'joy':joy, 'anger':anger, 'disgust':disgust, 'fear':fear, 'sad':sad, 'surprise':surp}\n",
        "for i in emojilist:\n",
        "    print('There are {} emoji contains in the cluster {}'.format(len(emojilist[i]), i))\n",
        "    print(i,emojilist[i])"
      ],
      "metadata": {
        "colab": {
          "base_uri": "https://localhost:8080/"
        },
        "id": "KKsabQcMPBYD",
        "outputId": "a9231af6-7237-413b-e2ac-393760d11e63"
      },
      "execution_count": 240,
      "outputs": [
        {
          "output_type": "stream",
          "name": "stdout",
          "text": [
            "There are 30 emoji contains in the cluster joy\n",
            "joy ['😀', '😂', '😃', '😄', '😆', '😇', '😉', '😊', '😋', '😌', '😍', '😎', '😏', '🌞', '☺', '😘', '😜', '😝', '😛', '😺', '😸', '😹', '😻', '😼', '❤', '💖', '💕', '😁', '♥', '❤']\n",
            "There are 9 emoji contains in the cluster anger\n",
            "anger ['😬', '😠', '😐', '😑', '😠', '😡', '😖', '😤', '😾']\n",
            "There are 1 emoji contains in the cluster disgust\n",
            "disgust ['💩']\n",
            "There are 7 emoji contains in the cluster fear\n",
            "fear ['😅', '😦', '😧', '😱', '😨', '😰', '🙀']\n",
            "There are 12 emoji contains in the cluster sad\n",
            "sad ['😔', '😕', '☹', '😫', '😩', '😢', '😥', '😪', '😓', '😭', '😿', '💔']\n",
            "There are 4 emoji contains in the cluster surprise\n",
            "surprise ['😳', '😯', '😵', '😲']\n"
          ]
        }
      ]
    },
    {
      "cell_type": "code",
      "source": [
        "print(text)"
      ],
      "metadata": {
        "colab": {
          "base_uri": "https://localhost:8080/"
        },
        "id": "FjcayBb5CXKr",
        "outputId": "bfe63399-05e3-49cc-ef54-32f1f2a1321a"
      },
      "execution_count": 241,
      "outputs": [
        {
          "output_type": "stream",
          "name": "stdout",
          "text": [
            "_ : පේනවානේ තම්බි කවදත් ඉන්නේ උන්ට වාසි පැත්තේ. එහෙම ඉදගෙන උන්ගේ ශරියාව සහ උන්ගේ බෝවීම ස්ථාවර කරගන්නවා. උන්ගේ ටාගට් එක රටේ බහුතර…\n"
          ]
        }
      ]
    },
    {
      "cell_type": "code",
      "source": [
        "def remove_punctuation(text):\n",
        "    if isinstance(text, str):\n",
        "        return text.translate(str.maketrans('', '', string.punctuation))\n",
        "    else:\n",
        "        return text"
      ],
      "metadata": {
        "id": "2X1euDW0EVBo"
      },
      "execution_count": 242,
      "outputs": []
    },
    {
      "cell_type": "code",
      "source": [
        "text = remove_punctuation(text)"
      ],
      "metadata": {
        "id": "sbutvx-aEWR5"
      },
      "execution_count": 243,
      "outputs": []
    },
    {
      "cell_type": "code",
      "source": [
        "import emoji"
      ],
      "metadata": {
        "id": "MWSkRJOfOIbm"
      },
      "execution_count": 244,
      "outputs": []
    },
    {
      "cell_type": "code",
      "source": [
        "def remove_emojis(text):\n",
        "  new_text = []\n",
        "  for char in text:\n",
        "    if char not in emoji.UNICODE_EMOJI['en']:\n",
        "      new_text.append(char)\n",
        "  return ''.join(new_text)"
      ],
      "metadata": {
        "id": "AVIUeSRZNapL"
      },
      "execution_count": 245,
      "outputs": []
    },
    {
      "cell_type": "code",
      "source": [
        "text1 = remove_emojis(text)"
      ],
      "metadata": {
        "id": "75XUfR-cNcXK"
      },
      "execution_count": 246,
      "outputs": []
    },
    {
      "cell_type": "code",
      "source": [
        "text1"
      ],
      "metadata": {
        "colab": {
          "base_uri": "https://localhost:8080/",
          "height": 53
        },
        "id": "3x_IrKEpNlqn",
        "outputId": "2b5703a6-bda2-462a-fe87-54dd3c6c3e5c"
      },
      "execution_count": 247,
      "outputs": [
        {
          "output_type": "execute_result",
          "data": {
            "text/plain": [
              "'  පේනවානේ තම්බි කවදත් ඉන්නේ උන්ට වාසි පැත්තේ එහෙම ඉදගෙන උන්ගේ ශරියාව සහ උන්ගේ බෝවීම ස්ථාවර කරගන්නවා උන්ගේ ටාගට් එක රටේ බහුතර…'"
            ],
            "application/vnd.google.colaboratory.intrinsic+json": {
              "type": "string"
            }
          },
          "metadata": {},
          "execution_count": 247
        }
      ]
    },
    {
      "cell_type": "code",
      "source": [
        "def extract_emojis(text):\n",
        "  return ' '.join(c for c in text if c in emoji.UNICODE_EMOJI['en'])"
      ],
      "metadata": {
        "id": "QJOlmx5AMPp5"
      },
      "execution_count": 248,
      "outputs": []
    },
    {
      "cell_type": "code",
      "source": [
        "emoji = extract_emojis(text)"
      ],
      "metadata": {
        "id": "9V69JlYKMe7d"
      },
      "execution_count": 249,
      "outputs": []
    },
    {
      "cell_type": "code",
      "source": [
        "emoji"
      ],
      "metadata": {
        "colab": {
          "base_uri": "https://localhost:8080/",
          "height": 36
        },
        "id": "FhetmmfIMly4",
        "outputId": "94f28703-b858-48e1-8b00-a42d7e921c28"
      },
      "execution_count": 250,
      "outputs": [
        {
          "output_type": "execute_result",
          "data": {
            "text/plain": [
              "''"
            ],
            "application/vnd.google.colaboratory.intrinsic+json": {
              "type": "string"
            }
          },
          "metadata": {},
          "execution_count": 250
        }
      ]
    },
    {
      "cell_type": "code",
      "source": [
        "allemoji = joy + anger + disgust + fear + sad + surp\n",
        "def concern_emojis(text):\n",
        "  return ' '.join(c for c in text if c in allemoji)"
      ],
      "metadata": {
        "id": "JH1eFsEbOi8M"
      },
      "execution_count": 251,
      "outputs": []
    },
    {
      "cell_type": "code",
      "source": [
        "con_emoji = concern_emojis(emoji)"
      ],
      "metadata": {
        "id": "OGZIPFhAPqUp"
      },
      "execution_count": 252,
      "outputs": []
    },
    {
      "cell_type": "code",
      "source": [
        "con_emoji"
      ],
      "metadata": {
        "colab": {
          "base_uri": "https://localhost:8080/",
          "height": 36
        },
        "id": "9cHWgQTbQKWC",
        "outputId": "39ac7d4c-da45-45a2-8afb-fb0c41414a64"
      },
      "execution_count": 253,
      "outputs": [
        {
          "output_type": "execute_result",
          "data": {
            "text/plain": [
              "''"
            ],
            "application/vnd.google.colaboratory.intrinsic+json": {
              "type": "string"
            }
          },
          "metadata": {},
          "execution_count": 253
        }
      ]
    },
    {
      "cell_type": "code",
      "source": [
        "import demoji"
      ],
      "metadata": {
        "id": "usmHrzqCRmWJ"
      },
      "execution_count": 254,
      "outputs": []
    },
    {
      "cell_type": "code",
      "source": [
        "demoji.download_codes()\n",
        "def get_emoji_meaning(e):\n",
        "    return demoji.replace_with_desc(e)"
      ],
      "metadata": {
        "colab": {
          "base_uri": "https://localhost:8080/"
        },
        "id": "2JHJ3yBFRBaP",
        "outputId": "dbd8f661-d5e9-4b15-acfd-2afecb6ef0b8"
      },
      "execution_count": 255,
      "outputs": [
        {
          "output_type": "stream",
          "name": "stderr",
          "text": [
            "<ipython-input-255-af988191c57b>:1: FutureWarning: The demoji.download_codes attribute is deprecated and will be removed from demoji in a future version. It is an unused attribute as emoji codes are now distributed directly with the demoji package.\n",
            "  demoji.download_codes()\n"
          ]
        }
      ]
    },
    {
      "cell_type": "code",
      "source": [
        "con_emoji_text = get_emoji_meaning(con_emoji)\n",
        "con_emoji_text = remove_punctuation(con_emoji_text)"
      ],
      "metadata": {
        "id": "X2nU8dr5R3_Z"
      },
      "execution_count": 256,
      "outputs": []
    },
    {
      "cell_type": "code",
      "source": [
        "con_emoji_text"
      ],
      "metadata": {
        "colab": {
          "base_uri": "https://localhost:8080/",
          "height": 36
        },
        "id": "FOFp1vHwSHAQ",
        "outputId": "7c5ed180-5a76-4a15-bee2-f53b48f21cb9"
      },
      "execution_count": 257,
      "outputs": [
        {
          "output_type": "execute_result",
          "data": {
            "text/plain": [
              "''"
            ],
            "application/vnd.google.colaboratory.intrinsic+json": {
              "type": "string"
            }
          },
          "metadata": {},
          "execution_count": 257
        }
      ]
    },
    {
      "cell_type": "code",
      "source": [
        "import nltk\n",
        "nltk.download('punkt')"
      ],
      "metadata": {
        "colab": {
          "base_uri": "https://localhost:8080/"
        },
        "id": "QFIOKPlI7JF3",
        "outputId": "e80264c3-9eda-4345-f7bf-5ca83129924a"
      },
      "execution_count": 258,
      "outputs": [
        {
          "output_type": "stream",
          "name": "stderr",
          "text": [
            "[nltk_data] Downloading package punkt to /root/nltk_data...\n",
            "[nltk_data]   Package punkt is already up-to-date!\n"
          ]
        },
        {
          "output_type": "execute_result",
          "data": {
            "text/plain": [
              "True"
            ]
          },
          "metadata": {},
          "execution_count": 258
        }
      ]
    },
    {
      "cell_type": "code",
      "source": [
        "from nltk.stem import PorterStemmer\n",
        "from nltk.tokenize import word_tokenize\n",
        "\n",
        "# Initialize the Porter stemmer\n",
        "stemmer = PorterStemmer()\n",
        "\n",
        "# Tokenize the sentence into words\n",
        "words = word_tokenize(con_emoji_text)\n",
        "\n",
        "# Create a list to store the stemmed words\n",
        "stemmed_words = []\n",
        "\n",
        "# Loop through each word in the sentence and stem it\n",
        "for word in words:\n",
        "    stemmed_word = stemmer.stem(word)\n",
        "    stemmed_words.append(stemmed_word)\n",
        "\n",
        "# Convert the list of stemmed words back into a sentence\n",
        "stemmed_sentence = ' '.join(stemmed_words)\n",
        "\n",
        "# Print the original sentence and the stemmed sentence\n",
        "print(\"Original sentence: \", con_emoji_text)\n",
        "print(\"Stemmed sentence: \", stemmed_sentence)\n"
      ],
      "metadata": {
        "colab": {
          "base_uri": "https://localhost:8080/"
        },
        "id": "2U5esXfsURpA",
        "outputId": "d0c07b02-2542-4940-910a-746d462fc776"
      },
      "execution_count": 259,
      "outputs": [
        {
          "output_type": "stream",
          "name": "stdout",
          "text": [
            "Original sentence:  \n",
            "Stemmed sentence:  \n"
          ]
        }
      ]
    },
    {
      "cell_type": "code",
      "source": [
        "# english-sinhala dictionary\n",
        "dictionary = {}\n",
        "df= pd.read_csv('emojiSinhala.csv')\n",
        "dictionary_file = df[\"En,sinhala\"]\n",
        "\n",
        "for line in dictionary_file:\n",
        "    key, value = line.strip().split(\",\")\n",
        "    dictionary[key] = value"
      ],
      "metadata": {
        "id": "kB902GwQVGGp"
      },
      "execution_count": 260,
      "outputs": []
    },
    {
      "cell_type": "code",
      "source": [
        "# to check whether the string contains English words(any)\n",
        "def translate_english(x):\n",
        "    for word1 in x.split():\n",
        "        new_word = ''.join(i for i in word1 if not i.isdigit())\n",
        "        x = x.replace(word1, new_word)\n",
        "    for word in x.split():\n",
        "        word2 = \"\".join(l for l in word if l not in string.punctuation)\n",
        "        if re.match('[a-zA-Z]', word2) is not None:\n",
        "            word1 = word2.lower()\n",
        "            translated_word = dictionary.get(word1)\n",
        "            if translated_word is None:\n",
        "                translated_word = ''\n",
        "            x = x.replace(word, translated_word)\n",
        "    return x"
      ],
      "metadata": {
        "id": "Lp8hk_jBZOmv"
      },
      "execution_count": 261,
      "outputs": []
    },
    {
      "cell_type": "code",
      "source": [
        "con_emoji_text_sinhala = translate_english(con_emoji_text)"
      ],
      "metadata": {
        "id": "_xekdvGiX7EU"
      },
      "execution_count": 262,
      "outputs": []
    },
    {
      "cell_type": "code",
      "source": [
        "print(con_emoji_text_sinhala)"
      ],
      "metadata": {
        "colab": {
          "base_uri": "https://localhost:8080/"
        },
        "id": "FnPYoOQJUswb",
        "outputId": "4434ef1b-1a5b-46a6-af1b-e5332b3d625a"
      },
      "execution_count": 263,
      "outputs": [
        {
          "output_type": "stream",
          "name": "stdout",
          "text": [
            "\n"
          ]
        }
      ]
    },
    {
      "cell_type": "code",
      "source": [
        "# english-sinhala dictionary\n",
        "dictionary1 = {}\n",
        "df= pd.read_csv('en-sinhala dictionary.csv')\n",
        "dictionary_file1 = df[\"En,sinhala\"]\n",
        "\n",
        "for line in dictionary_file1:\n",
        "    key, value = line.strip().split(\",\")\n",
        "    dictionary1[key] = value"
      ],
      "metadata": {
        "id": "gse9TqGnEj60"
      },
      "execution_count": 264,
      "outputs": []
    },
    {
      "cell_type": "code",
      "source": [
        "def translate_english1(x):\n",
        "    for word1 in x.split():\n",
        "        new_word = ''.join(i for i in word1 if not i.isdigit())\n",
        "        x = x.replace(word1, new_word)\n",
        "    for word in x.split():\n",
        "        word2 = \"\".join(l for l in word if l not in string.punctuation)\n",
        "        if re.match('[a-zA-Z]', word2) is not None:\n",
        "            word1 = word2.lower()\n",
        "            translated_word = dictionary1.get(word1)\n",
        "            if translated_word is None:\n",
        "                translated_word = ''\n",
        "            x = x.replace(word, translated_word)\n",
        "    return x"
      ],
      "metadata": {
        "id": "DnghcLI3aGob"
      },
      "execution_count": 265,
      "outputs": []
    },
    {
      "cell_type": "code",
      "source": [
        "text1 = translate_english1(text1)"
      ],
      "metadata": {
        "id": "jQGxoCZDKK5s"
      },
      "execution_count": 266,
      "outputs": []
    },
    {
      "cell_type": "code",
      "source": [
        "text1"
      ],
      "metadata": {
        "colab": {
          "base_uri": "https://localhost:8080/",
          "height": 53
        },
        "id": "cwZ3kU3BKWqK",
        "outputId": "7167b358-956e-4bb0-eeea-9d7a7a193f20"
      },
      "execution_count": 267,
      "outputs": [
        {
          "output_type": "execute_result",
          "data": {
            "text/plain": [
              "'  පේනවානේ තම්බි කවදත් ඉන්නේ උන්ට වාසි පැත්තේ එහෙම ඉදගෙන උන්ගේ ශරියාව සහ උන්ගේ බෝවීම ස්ථාවර කරගන්නවා උන්ගේ ටාගට් එක රටේ බහුතර…'"
            ],
            "application/vnd.google.colaboratory.intrinsic+json": {
              "type": "string"
            }
          },
          "metadata": {},
          "execution_count": 267
        }
      ]
    },
    {
      "cell_type": "code",
      "source": [
        "stopwords_set = [\"සහ\",\"සමග\",\"සමඟ\",\"අහා\",\"ආහ්\",\"ආ\",\"ඕහෝ\",\"අනේ\",\"අඳෝ\",\"අපොයි\",\"පෝ\",\"අයියෝ\",\"ආයි\",\"ඌයි\",\"චී\",\"චිහ්\",\"චික්\",\"හෝ‍\",\"දෝ\",\n",
        "                 \"දෝහෝ\",\"මෙන්\",\"සේ\",\"වැනි\",\"බඳු\",\"වන්\",\"අයුරු\",\"අයුරින්\",\"ලෙස\",\"වැඩි\",\"ශ්‍රී\",\"හා\",\"ය\",\"නිසා\",\"නිසාවෙන්\",\"බවට\",\"බව\",\"බවෙන්\",\"නම්\",\"වැඩි\",\"සිට\",\n",
        "                 \"දී\",\"මහා\",\"මහ\",\"පමණ\",\"පමණින්\",\"පමන\",\"වන\",\"විට\",\"විටින්\",\"මේ\",\"මෙලෙස\",\"මෙයින්\",\"ඇති\",\"ලෙස\",\"සිදු\",\"වශයෙන්\",\"යන\",\"සඳහා\",\"මගින්\",\"හෝ‍\",\n",
        "                 \"ඉතා\",\"ඒ\",\"එම\",\"ද\",\"අතර\",\"විසින්\",\"සමග\",\"පිළිබඳව\",\"පිළිබඳ\",\"තුළ\",\"බව\",\"වැනි\",\"මහ\",\"මෙම\",\"මෙහි\",\"මේ\",\"වෙත\",\"වෙතින්\",\"වෙතට\",\"වෙනුවෙන්\",\n",
        "                 \"වෙනුවට\",\"වෙන\",\"ගැන\",\"නෑ\",\"අනුව\",\"නව\",\"පිළිබඳ\",\"විශේෂ\",\"දැනට\",\"එහෙන්\",\"මෙහෙන්\",\"එහේ\",\"මෙහේ\",\"ම\",\"තවත්\",\"තව\",\"සහ\",\"දක්වා\",\"ට\",\"ගේ\",\n",
        "                 \"එ\",\"ක\",\"ක්\",\"බවත්\",\"බවද\",\"මත\",\"ඇතුලු\",\"ඇතුළු\",\"මෙසේ\",\"වඩා\",\"වඩාත්ම\",\"නිති\",\"නිතිත්\",\"නිතොර\",\"නිතර\",\"ඉක්බිති\",\"දැන්\",\"යලි\",\"පුන\",\"ඉතින්\",\n",
        "                 \"සිට\",\"සිටන්\",\"පටන්\",\"තෙක්\",\"දක්වා\",\"සා\",\"තාක්\",\"තුවක්\",\"පවා\",\"ද\",\"හෝ‍\",\"වත්\",\"විනා\",\"හැර\",\"මිස\",\"මුත්\",\"කිම\",\"කිම්\",\"ඇයි\",\"මන්ද\",\"හෙවත්\",\n",
        "                 \"නොහොත්\",\"පතා\",\"පාසා\",\"ගානෙ\",\"තව\",\"ඉතා\",\"බොහෝ\",\"වහා\",\"සෙද\",\"සැනින්\",\"හනික\",\"එම්බා\",\"එම්බල\",\"බොල\",\"නම්\",\"වනාහි\",\"කලී\",\"ඉඳුරා\",\n",
        "                 \"අන්න\",\"ඔන්න\",\"මෙන්න\",\"උදෙසා\",\"පිණිස\",\"සඳහා\",\"රබයා\",\"නිසා\",\"එනිසා\",\"එබැවින්\",\"බැවින්\",\"හෙයින්\",\"සේක්\",\"සේක\",\"ගැන\",\"අනුව\",\"පරිදි\",\"විට\",\n",
        "                 \"තෙක්\",\"මෙතෙක්\",\"මේතාක්\",\"තුරු\",\"තුරා\",\"තුරාවට\",\"තුලින්\",\"නමුත්\",\"එනමුත්\",\"වස්\",'මෙන්',\"ලෙස\",\"පරිදි\",\"එහෙත්\"]"
      ],
      "metadata": {
        "id": "_yQOwHqvLqyK"
      },
      "execution_count": 268,
      "outputs": []
    },
    {
      "cell_type": "code",
      "source": [
        "def remove_stopwords_SINHALA(text):\n",
        "    wordlist = []\n",
        "    for w in text.split(' '):\n",
        "        if w not in stopwords_set:\n",
        "            wordlist.append(w)\n",
        "    return ' '.join(wordlist)"
      ],
      "metadata": {
        "id": "-xAai3-9avA6"
      },
      "execution_count": 269,
      "outputs": []
    },
    {
      "cell_type": "code",
      "source": [
        "text1 = remove_stopwords_SINHALA(text1)"
      ],
      "metadata": {
        "id": "Z7uIm6VHazC5"
      },
      "execution_count": 270,
      "outputs": []
    },
    {
      "cell_type": "code",
      "source": [
        "text1"
      ],
      "metadata": {
        "colab": {
          "base_uri": "https://localhost:8080/",
          "height": 53
        },
        "id": "0lfvZLX0c4W7",
        "outputId": "f57f3f7c-6141-44a1-f15b-a8da7ef8e481"
      },
      "execution_count": 271,
      "outputs": [
        {
          "output_type": "execute_result",
          "data": {
            "text/plain": [
              "'  පේනවානේ තම්බි කවදත් ඉන්නේ උන්ට වාසි පැත්තේ එහෙම ඉදගෙන උන්ගේ ශරියාව උන්ගේ බෝවීම ස්ථාවර කරගන්නවා උන්ගේ ටාගට් එක රටේ බහුතර…'"
            ],
            "application/vnd.google.colaboratory.intrinsic+json": {
              "type": "string"
            }
          },
          "metadata": {},
          "execution_count": 271
        }
      ]
    },
    {
      "cell_type": "code",
      "source": [
        "translate_words_dict = {\n",
        "    \"unp\": \"එක්සත් ජාතික පක්ෂය\",\n",
        "    \"muslim\": \"මුස්ලිම්\",\n",
        "    \"srilankanpolitics\": \"ශ්‍රී ලංකන් දේශපාලනය\",\n",
        "    \"council\": \"සභාව\",\n",
        "    \"sinhala\": \"සිංහල\",\n",
        "    \"buddhist\": \"බෞද්ධ\",\n",
        "    \"buddhism\": \"බුද්ධාගම\",\n",
        "    \"srilanka\": \"ශ්‍රී ලංකාව\",\n",
        "    \"racist\": \"ජාතිවාදී\",\n",
        "    \"presidentialfirst\": \"පළමු ජනාධිපති\",\n",
        "    \"feeling\": \"හැඟීම\",\n",
        "    \"feminist\": \"ස්ත්‍රීවාදී\",\n",
        "    \"loved\": \"ආදරය කළා\",\n",
        "    \"team\": \"කණ්ඩායම\",\n",
        "    \"tclsl\":\"ට්විටර් ක්‍රිකට් ලීගය ශ්‍රී ලංකාව\",\n",
        "    \"pongal\": \"පොංගල්\",\n",
        "    \"pongalfestival\": \"පොංගල් උත්සවය\",\n",
        "    \"women\": \"කාන්තා\",\n",
        "    \"nextpresidentinsl\": \"ශ්‍රී ලංකාවේ මීළඟ ජනාධිපති \",\n",
        "    \"seventhexecutivepresident\": \"හත්වන විධායක සභාපති\",\n",
        "    \"hate\": \"වෛරය\",\n",
        "    \"love\": \"ආදරය\",\n",
        "    \"angry\": \"තරහයි\",\n",
        "    \"doctor\": \"ඩොක්ටර්\",\n",
        "    \"ltte\": \"එල්ටීටීඊය\",\n",
        "    \"lka\": \"‍ශ්‍රී ලංකාව\",\n",
        "    \"hurt\": \"රිදෙනවා\",\n",
        "    \"typo\": \"යතුරු ලියනය\",\n",
        "    \"racial\": \"වාර්ගික\",\n",
        "    \"hatred\": \"වෛරය\",\n",
        "    \"halal\": \"හලාල්\",\n",
        "    \"wicket\": \"කඩුල්ල\",\n",
        "    \"taker\": \"ටේකර්\",\n",
        "    \"indoor\": \"ගෘහස්ථ\",\n",
        "    \"attacker\": \"ප්‍රහාරකයා\",\n",
        "    \"attack\": \"ප්රහාරය\",\n",
        "    \"spikers\": \"ස්පිකර්ස්\",\n",
        "    \"training\": \"පුහුණුව\",\n",
        "    \"final\": \"අවසාන\",\n",
        "    \"match\": \"තරගය\",\n",
        "    \"tournament\": \"තරඟාවලිය\",\n",
        "    \"youth\": \"තරුණ\",\n",
        "    \"amen\": \"ආමෙන්\",\n",
        "    \"enough\": \"ඇති\",\n",
        "    \"standagainstracism\": \"ජාතිවාදයට එරෙහිව නැගී සිටින්න\"\n",
        "}\n",
        "\n",
        "\n",
        "def translate_to_sinhala(word: str) -> str:\n",
        "  word = word.lower()\n",
        "  if word in translate_words_dict:\n",
        "        return translate_words_dict[word]\n",
        "  return word"
      ],
      "metadata": {
        "id": "or1VlsdhLV3H"
      },
      "execution_count": 272,
      "outputs": []
    },
    {
      "cell_type": "code",
      "source": [
        "from sinling import SinhalaTokenizer as tokenizer,SinhalaStemmer as stemmer, POSTagger,preprocess, word_joiner,word_splitter\n"
      ],
      "metadata": {
        "id": "h7CX9owccNml"
      },
      "execution_count": 273,
      "outputs": []
    },
    {
      "cell_type": "code",
      "source": [
        "import os\n",
        "\n",
        "import pygtrie as trie\n",
        "\n",
        "from sinling.config import RESOURCE_PATH\n",
        "from sinling.core import Stemmer\n",
        "\n",
        "__all__ = [\n",
        "    'SinhalaStemmer'\n",
        "]\n",
        "\n",
        "\n",
        "def _load_stem_dictionary():\n",
        "    stem_dict = dict()\n",
        "    with open(os.path.join(RESOURCE_PATH, 'stem_dictionary.txt'), 'r', encoding='utf-8') as fp:\n",
        "        for line in fp.read().split('\\n'):\n",
        "            try:\n",
        "                base, suffix = line.strip().split('\\t')\n",
        "                stem_dict[f'{base}{suffix}'] = (base, suffix)\n",
        "            except ValueError as _:\n",
        "                pass\n",
        "    return stem_dict\n",
        "\n",
        "\n",
        "def _load_suffixes():\n",
        "    suffixes = trie.Trie()\n",
        "    with open(os.path.join(RESOURCE_PATH, 'suffixes_list.txt'), 'r', encoding='utf-8') as fp:\n",
        "        for suffix in fp.read().split('\\n'):\n",
        "            suffixes[suffix[::-1]] = suffix\n",
        "    return suffixes\n",
        "\n",
        "\n",
        "class SinhalaStemmer(Stemmer):\n",
        "    def __init__(self):\n",
        "        super().__init__()\n",
        "        self.stem_dictionary = _load_stem_dictionary()\n",
        "        self.suffixes = _load_suffixes()\n",
        "\n",
        "    def stem(self, word):\n",
        "        if word in self.stem_dictionary:\n",
        "            return self.stem_dictionary[word]\n",
        "        else:\n",
        "            suffix = self.suffixes.longest_prefix(word[::-1]).key\n",
        "            if suffix is not None:\n",
        "                return word[0:-len(suffix)], word[len(word) - len(suffix):]\n",
        "            else:\n",
        "                return word, ''"
      ],
      "metadata": {
        "id": "HP2rhUJUb65N"
      },
      "execution_count": 274,
      "outputs": []
    },
    {
      "cell_type": "code",
      "source": [
        "stemmer = stemmer()\n",
        "def stem_word(word: str) -> str:\n",
        "    word= translate_to_sinhala(word)\n",
        "    \"\"\"\n",
        "    Stemming words\n",
        "    :param word: word\n",
        "    :return: stemmed word\n",
        "    \"\"\"\n",
        "    if len(word) < 4:\n",
        "        return word\n",
        "\n",
        "    # remove 'ට'\n",
        "    if word[-1] == 'ට':\n",
        "        return word[:-1]\n",
        "\n",
        "    # remove 'ම'\n",
        "    if word[-1] == 'ම':\n",
        "        return word[:-1]\n",
        "\n",
        "    # remove 'ද'\n",
        "    if word[-1] == 'ද':\n",
        "        return word[:-1]\n",
        "\n",
        "    # remove 'ටත්'\n",
        "    if word[-3:] == 'ටත්':\n",
        "        return word[:-3]\n",
        "\n",
        "    # remove 'එක්'\n",
        "    if word[-3:] == 'ෙක්':\n",
        "        return word[:-3]\n",
        "\n",
        "    # remove 'යේ'\n",
        "    if word[-2:] == 'යේ':\n",
        "        return word[:-2]\n",
        "\n",
        "    # remove 'ගෙ' (instead of ගේ because this step comes after simplifying text)\n",
        "    if word[-2:] == 'ගෙ':\n",
        "        return word[:-2]\n",
        "\n",
        "    # remove 'එ'\n",
        "    if word[-1:] == 'ෙ':\n",
        "        return word[:-1]\n",
        "\n",
        "    # remove 'ක්'\n",
        "    if word[-2:] == 'ක්':\n",
        "        return word[:-2]\n",
        "\n",
        "    # remove 'වත්'\n",
        "    if word[-3:] == 'වත්':\n",
        "        return word[:-3]\n",
        "\n",
        "    word=stemmer.stem(word)\n",
        "    word=word[0]\n",
        "\n",
        "\n",
        "    # else\n",
        "    return word"
      ],
      "metadata": {
        "id": "Fi_CtahPK3Fl"
      },
      "execution_count": 275,
      "outputs": []
    },
    {
      "cell_type": "code",
      "source": [
        "text1 = stem_word(text1)"
      ],
      "metadata": {
        "id": "4c5hcsE2LaYp"
      },
      "execution_count": 276,
      "outputs": []
    },
    {
      "cell_type": "code",
      "source": [
        "full_text = text1 + con_emoji_text_sinhala "
      ],
      "metadata": {
        "id": "IOWPoW2Odla3"
      },
      "execution_count": 277,
      "outputs": []
    },
    {
      "cell_type": "code",
      "source": [
        "full_text"
      ],
      "metadata": {
        "colab": {
          "base_uri": "https://localhost:8080/",
          "height": 53
        },
        "id": "5Whob2wSeJ4o",
        "outputId": "e30093f5-c634-4632-cf4a-f93fc0fac85a"
      },
      "execution_count": 278,
      "outputs": [
        {
          "output_type": "execute_result",
          "data": {
            "text/plain": [
              "'  පේනවානේ තම්බි කවදත් ඉන්නේ උන්ට වාසි පැත්තේ එහෙම ඉදගෙන උන්ගේ ශරියාව උන්ගේ බෝවීම ස්ථාවර කරගන්නවා උන්ගේ ටාගට් එක රටේ බහුතර…'"
            ],
            "application/vnd.google.colaboratory.intrinsic+json": {
              "type": "string"
            }
          },
          "metadata": {},
          "execution_count": 278
        }
      ]
    },
    {
      "cell_type": "code",
      "source": [
        "A=[]\n",
        "A.append(full_text)\n",
        "A"
      ],
      "metadata": {
        "colab": {
          "base_uri": "https://localhost:8080/"
        },
        "id": "u9nHXFyJDQyy",
        "outputId": "8896f394-ed14-4b4b-94b5-bc5cb9316bd6"
      },
      "execution_count": 279,
      "outputs": [
        {
          "output_type": "execute_result",
          "data": {
            "text/plain": [
              "['  පේනවානේ තම්බි කවදත් ඉන්නේ උන්ට වාසි පැත්තේ එහෙම ඉදගෙන උන්ගේ ශරියාව උන්ගේ බෝවීම ස්ථාවර කරගන්නවා උන්ගේ ටාගට් එක රටේ බහුතර…']"
            ]
          },
          "metadata": {},
          "execution_count": 279
        }
      ]
    },
    {
      "cell_type": "code",
      "source": [
        "DF = pd.read_csv('cleaned.csv')"
      ],
      "metadata": {
        "id": "dkpmsAXYPaLq"
      },
      "execution_count": 280,
      "outputs": []
    },
    {
      "cell_type": "code",
      "source": [
        "import pickle"
      ],
      "metadata": {
        "id": "-1LcsmxV8kMu"
      },
      "execution_count": 281,
      "outputs": []
    },
    {
      "cell_type": "code",
      "source": [
        "count_vector = pickle.load(open('BOW.pkl',\"rb\"))"
      ],
      "metadata": {
        "id": "LrkyN36A3TmM"
      },
      "execution_count": 282,
      "outputs": []
    },
    {
      "cell_type": "code",
      "source": [
        "test_vector = count_vector.transform(A).toarray()\n",
        "# test_vector = test_vector.toarray()"
      ],
      "metadata": {
        "id": "ifja4Hkm3P1i"
      },
      "execution_count": 283,
      "outputs": []
    },
    {
      "cell_type": "code",
      "source": [
        "import pickle\n",
        "from sklearn.preprocessing import LabelEncoder # to convert classes to number \n",
        "encoder = LabelEncoder()\n",
        "y = encoder.fit_transform(DF['Class'])\n",
        "y"
      ],
      "metadata": {
        "id": "UDzjfu80_d4_",
        "colab": {
          "base_uri": "https://localhost:8080/"
        },
        "outputId": "cfab52e3-7890-4f5d-82eb-dc3c2b260d1e"
      },
      "execution_count": 284,
      "outputs": [
        {
          "output_type": "execute_result",
          "data": {
            "text/plain": [
              "array([0, 0, 0, ..., 2, 2, 2])"
            ]
          },
          "metadata": {},
          "execution_count": 284
        }
      ]
    },
    {
      "cell_type": "code",
      "source": [
        "# load_model = pickle.load(open('modelForPrediction1.pkl','rb'))\n",
        "import joblib\n",
        "classifier = joblib.load('random_forest')"
      ],
      "metadata": {
        "id": "EZhgKLlm_ou7"
      },
      "execution_count": 285,
      "outputs": []
    },
    {
      "cell_type": "code",
      "source": [
        "print(classifier)"
      ],
      "metadata": {
        "colab": {
          "base_uri": "https://localhost:8080/"
        },
        "id": "6pkLzCFIKHz1",
        "outputId": "4cffb89f-c32f-43e8-8c3c-4bdb1580bc89"
      },
      "execution_count": 286,
      "outputs": [
        {
          "output_type": "stream",
          "name": "stdout",
          "text": [
            "RandomForestClassifier(n_estimators=15, n_jobs=-1, random_state=42)\n"
          ]
        }
      ]
    },
    {
      "cell_type": "code",
      "source": [
        "P = classifier.predict(test_vector)"
      ],
      "metadata": {
        "id": "UZK1XZrr0Duy"
      },
      "execution_count": 287,
      "outputs": []
    },
    {
      "cell_type": "code",
      "source": [
        "text_predict_class = encoder.inverse_transform(classifier.predict(test_vector))\n",
        "print(A[0], 'is: ',text_predict_class[0])"
      ],
      "metadata": {
        "colab": {
          "base_uri": "https://localhost:8080/"
        },
        "id": "qC82UksFjkjt",
        "outputId": "a8868358-7e81-491e-bd03-c24524952d3a"
      },
      "execution_count": 288,
      "outputs": [
        {
          "output_type": "stream",
          "name": "stdout",
          "text": [
            "  පේනවානේ තම්බි කවදත් ඉන්නේ උන්ට වාසි පැත්තේ එහෙම ඉදගෙන උන්ගේ ශරියාව උන්ගේ බෝවීම ස්ථාවර කරගන්නවා උන්ගේ ටාගට් එක රටේ බහුතර… is:  Racist\n"
          ]
        }
      ]
    }
  ]
}